{
 "cells": [
  {
   "cell_type": "markdown",
   "metadata": {},
   "source": [
    "# Assignment 4\n",
    "<br>*Last edit: 2/26/2021*"
   ]
  },
  {
   "cell_type": "code",
   "execution_count": 1,
   "metadata": {},
   "outputs": [],
   "source": [
    "# import modules\n",
    "import numpy as np\n",
    "import pandas as pd\n",
    "import matplotlib.pyplot as plt\n",
    "\n",
    "# sklearn utilities\n",
    "from sklearn import datasets\n",
    "from sklearn import preprocessing\n",
    "from sklearn.model_selection import train_test_split\n",
    "from sklearn.metrics import confusion_matrix, classification_report, plot_confusion_matrix\n",
    "\n",
    "# sklearn models\n",
    "from sklearn.linear_model import LogisticRegression\n",
    "from sklearn.tree import DecisionTreeClassifier\n",
    "from sklearn.svm import SVC\n",
    "from sklearn.ensemble import RandomForestClassifier\n",
    "from sklearn.decomposition import PCA\n",
    "from sklearn.neural_network import MLPClassifier\n",
    "\n",
    "# Neural Net\n",
    "import tensorflow as tf\n",
    "from tensorflow import keras\n",
    "from tensorflow.keras.models import Sequential \n",
    "from tensorflow.keras import layers\n",
    "from tensorflow.keras import optimizers\n",
    "\n",
    "# other things\n",
    "import os\n",
    "import numpy as np\n",
    "import pandas as pd\n",
    "import matplotlib.pyplot as plt\n",
    "\n",
    "from sklearn.linear_model import LinearRegression\n",
    "from sklearn.metrics import mean_squared_error\n",
    "\n",
    "%matplotlib inline"
   ]
  },
  {
   "cell_type": "markdown",
   "metadata": {},
   "source": [
    "## Prepare the data"
   ]
  },
  {
   "cell_type": "code",
   "execution_count": 2,
   "metadata": {},
   "outputs": [
    {
     "data": {
      "text/html": [
       "<div>\n",
       "<style scoped>\n",
       "    .dataframe tbody tr th:only-of-type {\n",
       "        vertical-align: middle;\n",
       "    }\n",
       "\n",
       "    .dataframe tbody tr th {\n",
       "        vertical-align: top;\n",
       "    }\n",
       "\n",
       "    .dataframe thead th {\n",
       "        text-align: right;\n",
       "    }\n",
       "</style>\n",
       "<table border=\"1\" class=\"dataframe\">\n",
       "  <thead>\n",
       "    <tr style=\"text-align: right;\">\n",
       "      <th></th>\n",
       "      <th>danceability</th>\n",
       "      <th>energy</th>\n",
       "      <th>key</th>\n",
       "      <th>loudness</th>\n",
       "      <th>mode</th>\n",
       "      <th>speechiness</th>\n",
       "      <th>acousticness</th>\n",
       "      <th>instrumentalness</th>\n",
       "      <th>liveness</th>\n",
       "      <th>valence</th>\n",
       "      <th>tempo</th>\n",
       "      <th>duration_ms</th>\n",
       "    </tr>\n",
       "  </thead>\n",
       "  <tbody>\n",
       "    <tr>\n",
       "      <th>0</th>\n",
       "      <td>0.639</td>\n",
       "      <td>0.269</td>\n",
       "      <td>8</td>\n",
       "      <td>-11.435</td>\n",
       "      <td>1</td>\n",
       "      <td>0.0698</td>\n",
       "      <td>0.982</td>\n",
       "      <td>0.120000</td>\n",
       "      <td>0.141</td>\n",
       "      <td>0.5390</td>\n",
       "      <td>124.866</td>\n",
       "      <td>207827</td>\n",
       "    </tr>\n",
       "    <tr>\n",
       "      <th>1</th>\n",
       "      <td>0.421</td>\n",
       "      <td>0.080</td>\n",
       "      <td>7</td>\n",
       "      <td>-21.795</td>\n",
       "      <td>1</td>\n",
       "      <td>0.0400</td>\n",
       "      <td>0.903</td>\n",
       "      <td>0.859000</td>\n",
       "      <td>0.135</td>\n",
       "      <td>0.0546</td>\n",
       "      <td>122.044</td>\n",
       "      <td>257693</td>\n",
       "    </tr>\n",
       "    <tr>\n",
       "      <th>2</th>\n",
       "      <td>0.626</td>\n",
       "      <td>0.152</td>\n",
       "      <td>5</td>\n",
       "      <td>-14.182</td>\n",
       "      <td>0</td>\n",
       "      <td>0.0405</td>\n",
       "      <td>0.934</td>\n",
       "      <td>0.000061</td>\n",
       "      <td>0.120</td>\n",
       "      <td>0.5450</td>\n",
       "      <td>82.174</td>\n",
       "      <td>184467</td>\n",
       "    </tr>\n",
       "    <tr>\n",
       "      <th>3</th>\n",
       "      <td>0.515</td>\n",
       "      <td>0.583</td>\n",
       "      <td>0</td>\n",
       "      <td>-8.182</td>\n",
       "      <td>0</td>\n",
       "      <td>0.0284</td>\n",
       "      <td>0.749</td>\n",
       "      <td>0.000294</td>\n",
       "      <td>0.123</td>\n",
       "      <td>0.4140</td>\n",
       "      <td>116.110</td>\n",
       "      <td>333947</td>\n",
       "    </tr>\n",
       "    <tr>\n",
       "      <th>4</th>\n",
       "      <td>0.468</td>\n",
       "      <td>0.391</td>\n",
       "      <td>2</td>\n",
       "      <td>-13.196</td>\n",
       "      <td>0</td>\n",
       "      <td>0.0269</td>\n",
       "      <td>0.658</td>\n",
       "      <td>0.061700</td>\n",
       "      <td>0.111</td>\n",
       "      <td>0.3420</td>\n",
       "      <td>142.413</td>\n",
       "      <td>550493</td>\n",
       "    </tr>\n",
       "  </tbody>\n",
       "</table>\n",
       "</div>"
      ],
      "text/plain": [
       "   danceability  energy  key  loudness  mode  speechiness  acousticness  \\\n",
       "0         0.639   0.269    8   -11.435     1       0.0698         0.982   \n",
       "1         0.421   0.080    7   -21.795     1       0.0400         0.903   \n",
       "2         0.626   0.152    5   -14.182     0       0.0405         0.934   \n",
       "3         0.515   0.583    0    -8.182     0       0.0284         0.749   \n",
       "4         0.468   0.391    2   -13.196     0       0.0269         0.658   \n",
       "\n",
       "   instrumentalness  liveness  valence    tempo  duration_ms  \n",
       "0          0.120000     0.141   0.5390  124.866       207827  \n",
       "1          0.859000     0.135   0.0546  122.044       257693  \n",
       "2          0.000061     0.120   0.5450   82.174       184467  \n",
       "3          0.000294     0.123   0.4140  116.110       333947  \n",
       "4          0.061700     0.111   0.3420  142.413       550493  "
      ]
     },
     "execution_count": 2,
     "metadata": {},
     "output_type": "execute_result"
    }
   ],
   "source": [
    "# \n",
    "path = os.getcwd() + '\\\\data\\specific_data_categorized.csv'\n",
    "data = pd.read_csv(path, header=0, names=['name', 'artists', 'danceability', 'energy', 'key', 'loudness', 'mode', 'speechiness', 'acousticness', 'instrumentalness', 'liveness', 'valence', 'tempo', 'type', 'audio_features', 'id' , 'uri', 'track_href', 'analysis_url', 'duration_ms', 'time_signature', 'target'], encoding = \"ISO-8859-1\")\n",
    "target = data['target']\n",
    "# Remove features that don't contribute to the classification of the tracks\n",
    "del data['target']\n",
    "del data['name']\n",
    "del data['artists']\n",
    "del data['type']\n",
    "del data['audio_features']\n",
    "del data['id']\n",
    "del data['uri']\n",
    "del data['track_href']\n",
    "del data['analysis_url']\n",
    "\n",
    "del data['time_signature']\n",
    "\n",
    "'''target=target.replace(to_replace=\"jazz\",value=\"0\")\n",
    "target=target.replace(to_replace=\"blues\",value=\"1\")\n",
    "target=target.replace(to_replace=\"soul\",value=\"2\")'''\n",
    "\n",
    "'''target=target.replace(to_replace=\"indie\",value=\"0\")\n",
    "target=target.replace(to_replace=\"rock\",value=\"1\")\n",
    "target=target.replace(to_replace=\"pop\",value=\"2\")\n",
    "target=target.replace(to_replace=\"hiphop\",value=\"3\")\n",
    "target=target.replace(to_replace=\"country\",value=\"4\")\n",
    "target=target.replace(to_replace=\"randb\",value=\"5\")\n",
    "target=target.replace(to_replace=\"latin\",value=\"6\")\n",
    "target=target.replace(to_replace=\"dance\",value=\"7\")\n",
    "target=target.replace(to_replace=\"folk\",value=\"8\")\n",
    "target=target.replace(to_replace=\"jazz\",value=\"9\")\n",
    "target=target.replace(to_replace=\"classical\",value=\"10\")\n",
    "target=target.replace(to_replace=\"soul\",value=\"11\")\n",
    "target=target.replace(to_replace=\"punk\",value=\"12\")\n",
    "target=target.replace(to_replace=\"metal\",value=\"13\")\n",
    "target=target.replace(to_replace=\"reggae\",value=\"14\")'''\n",
    "\n",
    "data.head()"
   ]
  },
  {
   "cell_type": "code",
   "execution_count": 3,
   "metadata": {},
   "outputs": [
    {
     "data": {
      "text/plain": [
       "((882, 12), (295, 12), (882,), (295,))"
      ]
     },
     "execution_count": 3,
     "metadata": {},
     "output_type": "execute_result"
    }
   ],
   "source": [
    "# Split data into training and testing sets\n",
    "x_train, x_test, y_train, y_test = train_test_split(data, target, test_size=0.25, random_state=0)\n",
    "x_train.shape, x_test.shape, y_train.shape, y_test.shape"
   ]
  },
  {
   "cell_type": "code",
   "execution_count": 4,
   "metadata": {},
   "outputs": [],
   "source": [
    "# Test many models\n",
    "from matplotlib.colors import ListedColormap\n",
    "from sklearn.model_selection import train_test_split\n",
    "from sklearn.preprocessing import StandardScaler\n",
    "from sklearn.datasets import make_moons, make_circles, make_classification\n",
    "from sklearn.neural_network import MLPClassifier\n",
    "from sklearn.neighbors import KNeighborsClassifier\n",
    "from sklearn.svm import SVC\n",
    "from sklearn.gaussian_process import GaussianProcessClassifier\n",
    "from sklearn.gaussian_process.kernels import RBF\n",
    "from sklearn.tree import DecisionTreeClassifier\n",
    "from sklearn.ensemble import RandomForestClassifier, AdaBoostClassifier\n",
    "from sklearn.naive_bayes import GaussianNB\n",
    "from sklearn.discriminant_analysis import QuadraticDiscriminantAnalysis"
   ]
  },
  {
   "cell_type": "code",
   "execution_count": 5,
   "metadata": {},
   "outputs": [],
   "source": [
    "classifiers = [\n",
    "    KNeighborsClassifier(3),\n",
    "    SVC(gamma=2, C=1),\n",
    "    #GaussianProcessClassifier(1.0 * RBF(1.0)),\n",
    "    DecisionTreeClassifier(max_depth=5),\n",
    "    RandomForestClassifier(max_depth=5, n_estimators=10, max_features=1),\n",
    "    MLPClassifier(alpha=1, max_iter=1000),\n",
    "    AdaBoostClassifier(),\n",
    "    GaussianNB(),\n",
    "    QuadraticDiscriminantAnalysis()]"
   ]
  },
  {
   "cell_type": "code",
   "execution_count": 6,
   "metadata": {},
   "outputs": [
    {
     "data": {
      "text/html": [
       "<div>\n",
       "<style scoped>\n",
       "    .dataframe tbody tr th:only-of-type {\n",
       "        vertical-align: middle;\n",
       "    }\n",
       "\n",
       "    .dataframe tbody tr th {\n",
       "        vertical-align: top;\n",
       "    }\n",
       "\n",
       "    .dataframe thead th {\n",
       "        text-align: right;\n",
       "    }\n",
       "</style>\n",
       "<table border=\"1\" class=\"dataframe\">\n",
       "  <thead>\n",
       "    <tr style=\"text-align: right;\">\n",
       "      <th></th>\n",
       "      <th>0</th>\n",
       "      <th>1</th>\n",
       "      <th>2</th>\n",
       "    </tr>\n",
       "  </thead>\n",
       "  <tbody>\n",
       "    <tr>\n",
       "      <th>0</th>\n",
       "      <td>40</td>\n",
       "      <td>19</td>\n",
       "      <td>17</td>\n",
       "    </tr>\n",
       "    <tr>\n",
       "      <th>1</th>\n",
       "      <td>28</td>\n",
       "      <td>68</td>\n",
       "      <td>19</td>\n",
       "    </tr>\n",
       "    <tr>\n",
       "      <th>2</th>\n",
       "      <td>48</td>\n",
       "      <td>21</td>\n",
       "      <td>35</td>\n",
       "    </tr>\n",
       "  </tbody>\n",
       "</table>\n",
       "</div>"
      ],
      "text/plain": [
       "    0   1   2\n",
       "0  40  19  17\n",
       "1  28  68  19\n",
       "2  48  21  35"
      ]
     },
     "metadata": {},
     "output_type": "display_data"
    },
    {
     "name": "stdout",
     "output_type": "stream",
     "text": [
      "              precision    recall  f1-score   support\n",
      "\n",
      "       blues       0.34      0.53      0.42        76\n",
      "        jazz       0.63      0.59      0.61       115\n",
      "        soul       0.49      0.34      0.40       104\n",
      "\n",
      "    accuracy                           0.48       295\n",
      "   macro avg       0.49      0.48      0.48       295\n",
      "weighted avg       0.51      0.48      0.49       295\n",
      "\n"
     ]
    },
    {
     "data": {
      "text/html": [
       "<div>\n",
       "<style scoped>\n",
       "    .dataframe tbody tr th:only-of-type {\n",
       "        vertical-align: middle;\n",
       "    }\n",
       "\n",
       "    .dataframe tbody tr th {\n",
       "        vertical-align: top;\n",
       "    }\n",
       "\n",
       "    .dataframe thead th {\n",
       "        text-align: right;\n",
       "    }\n",
       "</style>\n",
       "<table border=\"1\" class=\"dataframe\">\n",
       "  <thead>\n",
       "    <tr style=\"text-align: right;\">\n",
       "      <th></th>\n",
       "      <th>0</th>\n",
       "      <th>1</th>\n",
       "      <th>2</th>\n",
       "    </tr>\n",
       "  </thead>\n",
       "  <tbody>\n",
       "    <tr>\n",
       "      <th>0</th>\n",
       "      <td>0</td>\n",
       "      <td>76</td>\n",
       "      <td>0</td>\n",
       "    </tr>\n",
       "    <tr>\n",
       "      <th>1</th>\n",
       "      <td>0</td>\n",
       "      <td>115</td>\n",
       "      <td>0</td>\n",
       "    </tr>\n",
       "    <tr>\n",
       "      <th>2</th>\n",
       "      <td>0</td>\n",
       "      <td>104</td>\n",
       "      <td>0</td>\n",
       "    </tr>\n",
       "  </tbody>\n",
       "</table>\n",
       "</div>"
      ],
      "text/plain": [
       "   0    1  2\n",
       "0  0   76  0\n",
       "1  0  115  0\n",
       "2  0  104  0"
      ]
     },
     "metadata": {},
     "output_type": "display_data"
    },
    {
     "name": "stdout",
     "output_type": "stream",
     "text": [
      "              precision    recall  f1-score   support\n",
      "\n",
      "       blues       0.00      0.00      0.00        76\n",
      "        jazz       0.39      1.00      0.56       115\n",
      "        soul       0.00      0.00      0.00       104\n",
      "\n",
      "    accuracy                           0.39       295\n",
      "   macro avg       0.13      0.33      0.19       295\n",
      "weighted avg       0.15      0.39      0.22       295\n",
      "\n"
     ]
    },
    {
     "name": "stderr",
     "output_type": "stream",
     "text": [
      "C:\\Users\\johna\\anaconda3\\lib\\site-packages\\sklearn\\metrics\\_classification.py:1221: UndefinedMetricWarning: Precision and F-score are ill-defined and being set to 0.0 in labels with no predicted samples. Use `zero_division` parameter to control this behavior.\n",
      "  _warn_prf(average, modifier, msg_start, len(result))\n"
     ]
    },
    {
     "data": {
      "text/html": [
       "<div>\n",
       "<style scoped>\n",
       "    .dataframe tbody tr th:only-of-type {\n",
       "        vertical-align: middle;\n",
       "    }\n",
       "\n",
       "    .dataframe tbody tr th {\n",
       "        vertical-align: top;\n",
       "    }\n",
       "\n",
       "    .dataframe thead th {\n",
       "        text-align: right;\n",
       "    }\n",
       "</style>\n",
       "<table border=\"1\" class=\"dataframe\">\n",
       "  <thead>\n",
       "    <tr style=\"text-align: right;\">\n",
       "      <th></th>\n",
       "      <th>0</th>\n",
       "      <th>1</th>\n",
       "      <th>2</th>\n",
       "    </tr>\n",
       "  </thead>\n",
       "  <tbody>\n",
       "    <tr>\n",
       "      <th>0</th>\n",
       "      <td>51</td>\n",
       "      <td>8</td>\n",
       "      <td>17</td>\n",
       "    </tr>\n",
       "    <tr>\n",
       "      <th>1</th>\n",
       "      <td>12</td>\n",
       "      <td>99</td>\n",
       "      <td>4</td>\n",
       "    </tr>\n",
       "    <tr>\n",
       "      <th>2</th>\n",
       "      <td>32</td>\n",
       "      <td>2</td>\n",
       "      <td>70</td>\n",
       "    </tr>\n",
       "  </tbody>\n",
       "</table>\n",
       "</div>"
      ],
      "text/plain": [
       "    0   1   2\n",
       "0  51   8  17\n",
       "1  12  99   4\n",
       "2  32   2  70"
      ]
     },
     "metadata": {},
     "output_type": "display_data"
    },
    {
     "name": "stdout",
     "output_type": "stream",
     "text": [
      "              precision    recall  f1-score   support\n",
      "\n",
      "       blues       0.54      0.67      0.60        76\n",
      "        jazz       0.91      0.86      0.88       115\n",
      "        soul       0.77      0.67      0.72       104\n",
      "\n",
      "    accuracy                           0.75       295\n",
      "   macro avg       0.74      0.73      0.73       295\n",
      "weighted avg       0.76      0.75      0.75       295\n",
      "\n"
     ]
    },
    {
     "data": {
      "text/html": [
       "<div>\n",
       "<style scoped>\n",
       "    .dataframe tbody tr th:only-of-type {\n",
       "        vertical-align: middle;\n",
       "    }\n",
       "\n",
       "    .dataframe tbody tr th {\n",
       "        vertical-align: top;\n",
       "    }\n",
       "\n",
       "    .dataframe thead th {\n",
       "        text-align: right;\n",
       "    }\n",
       "</style>\n",
       "<table border=\"1\" class=\"dataframe\">\n",
       "  <thead>\n",
       "    <tr style=\"text-align: right;\">\n",
       "      <th></th>\n",
       "      <th>0</th>\n",
       "      <th>1</th>\n",
       "      <th>2</th>\n",
       "    </tr>\n",
       "  </thead>\n",
       "  <tbody>\n",
       "    <tr>\n",
       "      <th>0</th>\n",
       "      <td>41</td>\n",
       "      <td>8</td>\n",
       "      <td>27</td>\n",
       "    </tr>\n",
       "    <tr>\n",
       "      <th>1</th>\n",
       "      <td>4</td>\n",
       "      <td>105</td>\n",
       "      <td>6</td>\n",
       "    </tr>\n",
       "    <tr>\n",
       "      <th>2</th>\n",
       "      <td>12</td>\n",
       "      <td>4</td>\n",
       "      <td>88</td>\n",
       "    </tr>\n",
       "  </tbody>\n",
       "</table>\n",
       "</div>"
      ],
      "text/plain": [
       "    0    1   2\n",
       "0  41    8  27\n",
       "1   4  105   6\n",
       "2  12    4  88"
      ]
     },
     "metadata": {},
     "output_type": "display_data"
    },
    {
     "name": "stdout",
     "output_type": "stream",
     "text": [
      "              precision    recall  f1-score   support\n",
      "\n",
      "       blues       0.72      0.54      0.62        76\n",
      "        jazz       0.90      0.91      0.91       115\n",
      "        soul       0.73      0.85      0.78       104\n",
      "\n",
      "    accuracy                           0.79       295\n",
      "   macro avg       0.78      0.77      0.77       295\n",
      "weighted avg       0.79      0.79      0.79       295\n",
      "\n"
     ]
    },
    {
     "data": {
      "text/html": [
       "<div>\n",
       "<style scoped>\n",
       "    .dataframe tbody tr th:only-of-type {\n",
       "        vertical-align: middle;\n",
       "    }\n",
       "\n",
       "    .dataframe tbody tr th {\n",
       "        vertical-align: top;\n",
       "    }\n",
       "\n",
       "    .dataframe thead th {\n",
       "        text-align: right;\n",
       "    }\n",
       "</style>\n",
       "<table border=\"1\" class=\"dataframe\">\n",
       "  <thead>\n",
       "    <tr style=\"text-align: right;\">\n",
       "      <th></th>\n",
       "      <th>0</th>\n",
       "      <th>1</th>\n",
       "      <th>2</th>\n",
       "    </tr>\n",
       "  </thead>\n",
       "  <tbody>\n",
       "    <tr>\n",
       "      <th>0</th>\n",
       "      <td>76</td>\n",
       "      <td>0</td>\n",
       "      <td>0</td>\n",
       "    </tr>\n",
       "    <tr>\n",
       "      <th>1</th>\n",
       "      <td>115</td>\n",
       "      <td>0</td>\n",
       "      <td>0</td>\n",
       "    </tr>\n",
       "    <tr>\n",
       "      <th>2</th>\n",
       "      <td>104</td>\n",
       "      <td>0</td>\n",
       "      <td>0</td>\n",
       "    </tr>\n",
       "  </tbody>\n",
       "</table>\n",
       "</div>"
      ],
      "text/plain": [
       "     0  1  2\n",
       "0   76  0  0\n",
       "1  115  0  0\n",
       "2  104  0  0"
      ]
     },
     "metadata": {},
     "output_type": "display_data"
    },
    {
     "name": "stdout",
     "output_type": "stream",
     "text": [
      "              precision    recall  f1-score   support\n",
      "\n",
      "       blues       0.26      1.00      0.41        76\n",
      "        jazz       0.00      0.00      0.00       115\n",
      "        soul       0.00      0.00      0.00       104\n",
      "\n",
      "    accuracy                           0.26       295\n",
      "   macro avg       0.09      0.33      0.14       295\n",
      "weighted avg       0.07      0.26      0.11       295\n",
      "\n"
     ]
    },
    {
     "name": "stderr",
     "output_type": "stream",
     "text": [
      "C:\\Users\\johna\\anaconda3\\lib\\site-packages\\sklearn\\metrics\\_classification.py:1221: UndefinedMetricWarning: Precision and F-score are ill-defined and being set to 0.0 in labels with no predicted samples. Use `zero_division` parameter to control this behavior.\n",
      "  _warn_prf(average, modifier, msg_start, len(result))\n"
     ]
    },
    {
     "data": {
      "text/html": [
       "<div>\n",
       "<style scoped>\n",
       "    .dataframe tbody tr th:only-of-type {\n",
       "        vertical-align: middle;\n",
       "    }\n",
       "\n",
       "    .dataframe tbody tr th {\n",
       "        vertical-align: top;\n",
       "    }\n",
       "\n",
       "    .dataframe thead th {\n",
       "        text-align: right;\n",
       "    }\n",
       "</style>\n",
       "<table border=\"1\" class=\"dataframe\">\n",
       "  <thead>\n",
       "    <tr style=\"text-align: right;\">\n",
       "      <th></th>\n",
       "      <th>0</th>\n",
       "      <th>1</th>\n",
       "      <th>2</th>\n",
       "    </tr>\n",
       "  </thead>\n",
       "  <tbody>\n",
       "    <tr>\n",
       "      <th>0</th>\n",
       "      <td>47</td>\n",
       "      <td>9</td>\n",
       "      <td>20</td>\n",
       "    </tr>\n",
       "    <tr>\n",
       "      <th>1</th>\n",
       "      <td>8</td>\n",
       "      <td>104</td>\n",
       "      <td>3</td>\n",
       "    </tr>\n",
       "    <tr>\n",
       "      <th>2</th>\n",
       "      <td>16</td>\n",
       "      <td>3</td>\n",
       "      <td>85</td>\n",
       "    </tr>\n",
       "  </tbody>\n",
       "</table>\n",
       "</div>"
      ],
      "text/plain": [
       "    0    1   2\n",
       "0  47    9  20\n",
       "1   8  104   3\n",
       "2  16    3  85"
      ]
     },
     "metadata": {},
     "output_type": "display_data"
    },
    {
     "name": "stdout",
     "output_type": "stream",
     "text": [
      "              precision    recall  f1-score   support\n",
      "\n",
      "       blues       0.66      0.62      0.64        76\n",
      "        jazz       0.90      0.90      0.90       115\n",
      "        soul       0.79      0.82      0.80       104\n",
      "\n",
      "    accuracy                           0.80       295\n",
      "   macro avg       0.78      0.78      0.78       295\n",
      "weighted avg       0.80      0.80      0.80       295\n",
      "\n"
     ]
    },
    {
     "data": {
      "text/html": [
       "<div>\n",
       "<style scoped>\n",
       "    .dataframe tbody tr th:only-of-type {\n",
       "        vertical-align: middle;\n",
       "    }\n",
       "\n",
       "    .dataframe tbody tr th {\n",
       "        vertical-align: top;\n",
       "    }\n",
       "\n",
       "    .dataframe thead th {\n",
       "        text-align: right;\n",
       "    }\n",
       "</style>\n",
       "<table border=\"1\" class=\"dataframe\">\n",
       "  <thead>\n",
       "    <tr style=\"text-align: right;\">\n",
       "      <th></th>\n",
       "      <th>0</th>\n",
       "      <th>1</th>\n",
       "      <th>2</th>\n",
       "    </tr>\n",
       "  </thead>\n",
       "  <tbody>\n",
       "    <tr>\n",
       "      <th>0</th>\n",
       "      <td>16</td>\n",
       "      <td>36</td>\n",
       "      <td>24</td>\n",
       "    </tr>\n",
       "    <tr>\n",
       "      <th>1</th>\n",
       "      <td>5</td>\n",
       "      <td>81</td>\n",
       "      <td>29</td>\n",
       "    </tr>\n",
       "    <tr>\n",
       "      <th>2</th>\n",
       "      <td>3</td>\n",
       "      <td>22</td>\n",
       "      <td>79</td>\n",
       "    </tr>\n",
       "  </tbody>\n",
       "</table>\n",
       "</div>"
      ],
      "text/plain": [
       "    0   1   2\n",
       "0  16  36  24\n",
       "1   5  81  29\n",
       "2   3  22  79"
      ]
     },
     "metadata": {},
     "output_type": "display_data"
    },
    {
     "name": "stdout",
     "output_type": "stream",
     "text": [
      "              precision    recall  f1-score   support\n",
      "\n",
      "       blues       0.67      0.21      0.32        76\n",
      "        jazz       0.58      0.70      0.64       115\n",
      "        soul       0.60      0.76      0.67       104\n",
      "\n",
      "    accuracy                           0.60       295\n",
      "   macro avg       0.62      0.56      0.54       295\n",
      "weighted avg       0.61      0.60      0.57       295\n",
      "\n"
     ]
    },
    {
     "data": {
      "text/html": [
       "<div>\n",
       "<style scoped>\n",
       "    .dataframe tbody tr th:only-of-type {\n",
       "        vertical-align: middle;\n",
       "    }\n",
       "\n",
       "    .dataframe tbody tr th {\n",
       "        vertical-align: top;\n",
       "    }\n",
       "\n",
       "    .dataframe thead th {\n",
       "        text-align: right;\n",
       "    }\n",
       "</style>\n",
       "<table border=\"1\" class=\"dataframe\">\n",
       "  <thead>\n",
       "    <tr style=\"text-align: right;\">\n",
       "      <th></th>\n",
       "      <th>0</th>\n",
       "      <th>1</th>\n",
       "      <th>2</th>\n",
       "    </tr>\n",
       "  </thead>\n",
       "  <tbody>\n",
       "    <tr>\n",
       "      <th>0</th>\n",
       "      <td>41</td>\n",
       "      <td>8</td>\n",
       "      <td>27</td>\n",
       "    </tr>\n",
       "    <tr>\n",
       "      <th>1</th>\n",
       "      <td>6</td>\n",
       "      <td>104</td>\n",
       "      <td>5</td>\n",
       "    </tr>\n",
       "    <tr>\n",
       "      <th>2</th>\n",
       "      <td>17</td>\n",
       "      <td>9</td>\n",
       "      <td>78</td>\n",
       "    </tr>\n",
       "  </tbody>\n",
       "</table>\n",
       "</div>"
      ],
      "text/plain": [
       "    0    1   2\n",
       "0  41    8  27\n",
       "1   6  104   5\n",
       "2  17    9  78"
      ]
     },
     "metadata": {},
     "output_type": "display_data"
    },
    {
     "name": "stdout",
     "output_type": "stream",
     "text": [
      "              precision    recall  f1-score   support\n",
      "\n",
      "       blues       0.64      0.54      0.59        76\n",
      "        jazz       0.86      0.90      0.88       115\n",
      "        soul       0.71      0.75      0.73       104\n",
      "\n",
      "    accuracy                           0.76       295\n",
      "   macro avg       0.74      0.73      0.73       295\n",
      "weighted avg       0.75      0.76      0.75       295\n",
      "\n"
     ]
    }
   ],
   "source": [
    "for model in classifiers:\n",
    "    model.fit(x_train, y_train)\n",
    "    y_pred = model.predict(x_test)\n",
    "    conf_matrix = confusion_matrix(y_test, y_pred)\n",
    "    conf_df = pd.DataFrame(conf_matrix)\n",
    "    display(conf_df)\n",
    "    print(classification_report(y_test, y_pred))"
   ]
  },
  {
   "cell_type": "code",
   "execution_count": 7,
   "metadata": {},
   "outputs": [
    {
     "name": "stdout",
     "output_type": "stream",
     "text": [
      "              precision    recall  f1-score   support\n",
      "\n",
      "       blues       0.71      0.68      0.70        76\n",
      "        jazz       0.94      0.91      0.93       115\n",
      "        soul       0.78      0.83      0.80       104\n",
      "\n",
      "    accuracy                           0.82       295\n",
      "   macro avg       0.81      0.81      0.81       295\n",
      "weighted avg       0.82      0.82      0.82       295\n",
      "\n"
     ]
    },
    {
     "data": {
      "text/plain": [
       "<sklearn.metrics._plot.confusion_matrix.ConfusionMatrixDisplay at 0x197595b9190>"
      ]
     },
     "execution_count": 7,
     "metadata": {},
     "output_type": "execute_result"
    },
    {
     "data": {
      "image/png": "[encoded data removed]",
      "text/plain": [
       "<Figure size 432x288 with 2 Axes>"
      ]
     },
     "metadata": {
      "needs_background": "light"
     },
     "output_type": "display_data"
    }
   ],
   "source": [
    "# Random Forest Classifier No Regularization\n",
    "model = RandomForestClassifier(n_estimators=100)\n",
    "model.fit(x_train, y_train)\n",
    "y_pred = model.predict(x_test)\n",
    "\n",
    "print(classification_report(y_test, y_pred))\n",
    "plot_confusion_matrix(model, x_test, y_test, xticks_rotation=45)"
   ]
  },
  {
   "cell_type": "code",
   "execution_count": 8,
   "metadata": {},
   "outputs": [
    {
     "name": "stdout",
     "output_type": "stream",
     "text": [
      "              precision    recall  f1-score   support\n",
      "\n",
      "       blues       0.64      0.54      0.59        76\n",
      "        jazz       0.86      0.90      0.88       115\n",
      "        soul       0.71      0.75      0.73       104\n",
      "\n",
      "    accuracy                           0.76       295\n",
      "   macro avg       0.74      0.73      0.73       295\n",
      "weighted avg       0.75      0.76      0.75       295\n",
      "\n"
     ]
    },
    {
     "data": {
      "text/plain": [
       "<sklearn.metrics._plot.confusion_matrix.ConfusionMatrixDisplay at 0x1974d2b59d0>"
      ]
     },
     "execution_count": 8,
     "metadata": {},
     "output_type": "execute_result"
    },
    {
     "data": {
      "image/png": "[encoded data removed]",
      "text/plain": [
       "<Figure size 432x288 with 2 Axes>"
      ]
     },
     "metadata": {
      "needs_background": "light"
     },
     "output_type": "display_data"
    }
   ],
   "source": [
    "# Quad Discriminant No Regularization\n",
    "model = QuadraticDiscriminantAnalysis()\n",
    "model.fit(x_train, y_train)\n",
    "y_pred = model.predict(x_test)\n",
    "\n",
    "print(classification_report(y_test, y_pred))\n",
    "plot_confusion_matrix(model, x_test, y_test, xticks_rotation=45)"
   ]
  },
  {
   "cell_type": "code",
   "execution_count": 9,
   "metadata": {},
   "outputs": [
    {
     "name": "stdout",
     "output_type": "stream",
     "text": [
      "              precision    recall  f1-score   support\n",
      "\n",
      "       blues       0.00      0.00      0.00        76\n",
      "        jazz       0.39      1.00      0.56       115\n",
      "        soul       0.00      0.00      0.00       104\n",
      "\n",
      "    accuracy                           0.39       295\n",
      "   macro avg       0.13      0.33      0.19       295\n",
      "weighted avg       0.15      0.39      0.22       295\n",
      "\n"
     ]
    },
    {
     "name": "stderr",
     "output_type": "stream",
     "text": [
      "C:\\Users\\johna\\anaconda3\\lib\\site-packages\\sklearn\\metrics\\_classification.py:1221: UndefinedMetricWarning: Precision and F-score are ill-defined and being set to 0.0 in labels with no predicted samples. Use `zero_division` parameter to control this behavior.\n",
      "  _warn_prf(average, modifier, msg_start, len(result))\n"
     ]
    },
    {
     "data": {
      "text/plain": [
       "<sklearn.metrics._plot.confusion_matrix.ConfusionMatrixDisplay at 0x1975b3d1730>"
      ]
     },
     "execution_count": 9,
     "metadata": {},
     "output_type": "execute_result"
    },
    {
     "data": {
      "image/png": "[encoded data removed]",
      "text/plain": [
       "<Figure size 432x288 with 2 Axes>"
      ]
     },
     "metadata": {
      "needs_background": "light"
     },
     "output_type": "display_data"
    }
   ],
   "source": [
    "# SVC No Regularization\n",
    "model = SVC(gamma=2, C=1)\n",
    "model.fit(x_train, y_train)\n",
    "y_pred = model.predict(x_test)\n",
    "\n",
    "print(classification_report(y_test, y_pred))\n",
    "plot_confusion_matrix(model, x_test, y_test, xticks_rotation=45)"
   ]
  },
  {
   "cell_type": "code",
   "execution_count": 10,
   "metadata": {},
   "outputs": [
    {
     "data": {
      "text/plain": [
       "'target=target.replace(to_replace=\"indie\",value=\"0\")\\ntarget=target.replace(to_replace=\"rock\",value=\"1\")\\ntarget=target.replace(to_replace=\"pop\",value=\"2\")\\ntarget=target.replace(to_replace=\"hiphop\",value=\"3\")\\ntarget=target.replace(to_replace=\"country\",value=\"4\")\\ntarget=target.replace(to_replace=\"randb\",value=\"5\")\\ntarget=target.replace(to_replace=\"latin\",value=\"6\")\\ntarget=target.replace(to_replace=\"dance\",value=\"7\")\\ntarget=target.replace(to_replace=\"folk\",value=\"8\")\\ntarget=target.replace(to_replace=\"jazz\",value=\"9\")\\ntarget=target.replace(to_replace=\"classical\",value=\"10\")\\ntarget=target.replace(to_replace=\"soul\",value=\"11\")\\ntarget=target.replace(to_replace=\"punk\",value=\"12\")\\ntarget=target.replace(to_replace=\"metal\",value=\"13\")\\ntarget=target.replace(to_replace=\"reggae\",value=\"14\")'"
      ]
     },
     "execution_count": 10,
     "metadata": {},
     "output_type": "execute_result"
    }
   ],
   "source": [
    "# MLP\n",
    "# Reload dataset\n",
    "path = os.getcwd() + '\\\\data\\specific_data_categorized.csv'\n",
    "data = pd.read_csv(path, header=0, names=['name', 'artists', 'danceability', 'energy', 'key', 'loudness', 'mode', 'speechiness', 'acousticness', 'instrumentalness', 'liveness', 'valence', 'tempo', 'type', 'audio_features', 'id' , 'uri', 'track_href', 'analysis_url', 'duration_ms', 'time_signature', 'target'], encoding = \"ISO-8859-1\")\n",
    "target = data['target']\n",
    "# Remove features that don't contribute to the classification of the tracks\n",
    "del data['target']\n",
    "del data['name']\n",
    "del data['artists']\n",
    "del data['type']\n",
    "del data['audio_features']\n",
    "del data['id']\n",
    "del data['uri']\n",
    "del data['track_href']\n",
    "del data['analysis_url']\n",
    "\n",
    "del data['time_signature']\n",
    "\n",
    "target=target.replace(to_replace=\"jazz\",value=\"0\")\n",
    "target=target.replace(to_replace=\"blues\",value=\"1\")\n",
    "target=target.replace(to_replace=\"soul\",value=\"2\")\n",
    "# Convert labels to numbers\n",
    "'''target=target.replace(to_replace=\"indie\",value=\"0\")\n",
    "target=target.replace(to_replace=\"rock\",value=\"1\")\n",
    "target=target.replace(to_replace=\"pop\",value=\"2\")\n",
    "target=target.replace(to_replace=\"hiphop\",value=\"3\")\n",
    "target=target.replace(to_replace=\"country\",value=\"4\")\n",
    "target=target.replace(to_replace=\"randb\",value=\"5\")\n",
    "target=target.replace(to_replace=\"latin\",value=\"6\")\n",
    "target=target.replace(to_replace=\"dance\",value=\"7\")\n",
    "target=target.replace(to_replace=\"folk\",value=\"8\")\n",
    "target=target.replace(to_replace=\"jazz\",value=\"9\")\n",
    "target=target.replace(to_replace=\"classical\",value=\"10\")\n",
    "target=target.replace(to_replace=\"soul\",value=\"11\")\n",
    "target=target.replace(to_replace=\"punk\",value=\"12\")\n",
    "target=target.replace(to_replace=\"metal\",value=\"13\")\n",
    "target=target.replace(to_replace=\"reggae\",value=\"14\")'''"
   ]
  },
  {
   "cell_type": "code",
   "execution_count": 11,
   "metadata": {},
   "outputs": [
    {
     "name": "stdout",
     "output_type": "stream",
     "text": [
      "      danceability    energy       key  loudness  mode  speechiness  \\\n",
      "0         0.622279  0.270826  0.727273  0.679621   1.0     0.082216   \n",
      "1         0.343150  0.075898  0.636364  0.321106   1.0     0.029640   \n",
      "2         0.605634  0.150156  0.454545  0.584559   0.0     0.030522   \n",
      "3         0.463508  0.594674  0.000000  0.792193   0.0     0.009174   \n",
      "4         0.403329  0.396652  0.181818  0.618680   0.0     0.006528   \n",
      "...            ...       ...       ...       ...   ...          ...   \n",
      "1172      0.839949  0.525573  0.181818  0.709624   1.0     0.011115   \n",
      "1173      1.000000  0.659650  1.000000  0.877150   0.0     0.361327   \n",
      "1174      0.411012  0.687497  0.545455  0.614839   1.0     0.074806   \n",
      "1175      0.983355  0.316206  0.090909  0.641278   0.0     0.023994   \n",
      "1176      0.856594  0.359523  0.272727  0.644704   1.0     0.058574   \n",
      "\n",
      "      acousticness  instrumentalness  liveness   valence     tempo  \\\n",
      "0         0.990917          0.121581  0.127538  0.524109  0.461654   \n",
      "1         0.911191          0.870314  0.121291  0.016352  0.444549   \n",
      "2         0.942476          0.000061  0.105674  0.530398  0.202888   \n",
      "3         0.755776          0.000298  0.108798  0.393082  0.408581   \n",
      "4         0.663939          0.062513  0.096304  0.317610  0.568010   \n",
      "...            ...               ...       ...       ...       ...   \n",
      "1172      0.055497          0.001986  0.021135  0.880503  0.355467   \n",
      "1173      0.735592          0.000000  0.169183  0.972746  0.441282   \n",
      "1174      0.114939          0.000528  0.171265  0.986373  0.468169   \n",
      "1175      0.221913          0.000000  0.136908  0.756813  0.425692   \n",
      "1176      0.746693          0.038501  0.067361  0.928721  0.298194   \n",
      "\n",
      "      duration_ms  \n",
      "0        0.176236  \n",
      "1        0.242217  \n",
      "2        0.145327  \n",
      "3        0.343113  \n",
      "4        0.629638  \n",
      "...           ...  \n",
      "1172     0.173166  \n",
      "1173     0.097128  \n",
      "1174     0.185498  \n",
      "1175     0.181563  \n",
      "1176     0.183080  \n",
      "\n",
      "[1177 rows x 12 columns]\n"
     ]
    }
   ],
   "source": [
    "# Regularize data\n",
    "x = data.values\n",
    "min_max_scalar = preprocessing.MinMaxScaler()\n",
    "x_scaled = min_max_scalar.fit_transform(x)\n",
    "data = pd.DataFrame(x_scaled, columns=data.columns)\n",
    "print(data)"
   ]
  },
  {
   "cell_type": "code",
   "execution_count": 12,
   "metadata": {},
   "outputs": [
    {
     "name": "stdout",
     "output_type": "stream",
     "text": [
      "              precision    recall  f1-score   support\n",
      "\n",
      "           0       0.94      0.90      0.92       115\n",
      "           1       0.73      0.67      0.70        76\n",
      "           2       0.76      0.84      0.80       104\n",
      "\n",
      "    accuracy                           0.82       295\n",
      "   macro avg       0.81      0.80      0.81       295\n",
      "weighted avg       0.82      0.82      0.82       295\n",
      "\n"
     ]
    },
    {
     "data": {
      "text/plain": [
       "<sklearn.metrics._plot.confusion_matrix.ConfusionMatrixDisplay at 0x1975b2affd0>"
      ]
     },
     "execution_count": 12,
     "metadata": {},
     "output_type": "execute_result"
    },
    {
     "data": {
      "image/png": "[encoded data removed]",
      "text/plain": [
       "<Figure size 432x288 with 2 Axes>"
      ]
     },
     "metadata": {
      "needs_background": "light"
     },
     "output_type": "display_data"
    }
   ],
   "source": [
    "# Random Forest Classifier Post-Regularization\n",
    "x_train, x_test, y_train, y_test = train_test_split(data, target, test_size=0.25, random_state=0)\n",
    "x_train.shape, x_test.shape, y_train.shape, y_test.shape\n",
    "\n",
    "model = RandomForestClassifier(n_estimators=100)\n",
    "model.fit(x_train, y_train)\n",
    "y_pred = model.predict(x_test)\n",
    "\n",
    "print(classification_report(y_test, y_pred))\n",
    "plot_confusion_matrix(model, x_test, y_test, xticks_rotation=45)"
   ]
  },
  {
   "cell_type": "code",
   "execution_count": 13,
   "metadata": {},
   "outputs": [
    {
     "name": "stdout",
     "output_type": "stream",
     "text": [
      "              precision    recall  f1-score   support\n",
      "\n",
      "           0       0.86      0.90      0.88       115\n",
      "           1       0.64      0.54      0.59        76\n",
      "           2       0.71      0.75      0.73       104\n",
      "\n",
      "    accuracy                           0.76       295\n",
      "   macro avg       0.74      0.73      0.73       295\n",
      "weighted avg       0.75      0.76      0.75       295\n",
      "\n"
     ]
    },
    {
     "data": {
      "text/plain": [
       "<sklearn.metrics._plot.confusion_matrix.ConfusionMatrixDisplay at 0x197580a3af0>"
      ]
     },
     "execution_count": 13,
     "metadata": {},
     "output_type": "execute_result"
    },
    {
     "data": {
      "image/png": "[encoded data removed]",
      "text/plain": [
       "<Figure size 432x288 with 2 Axes>"
      ]
     },
     "metadata": {
      "needs_background": "light"
     },
     "output_type": "display_data"
    }
   ],
   "source": [
    "# Quad Discriminant Post-Regularization\n",
    "model = QuadraticDiscriminantAnalysis()\n",
    "model.fit(x_train, y_train)\n",
    "y_pred = model.predict(x_test)\n",
    "\n",
    "print(classification_report(y_test, y_pred))\n",
    "plot_confusion_matrix(model, x_test, y_test, xticks_rotation=45)"
   ]
  },
  {
   "cell_type": "code",
   "execution_count": 14,
   "metadata": {},
   "outputs": [
    {
     "name": "stdout",
     "output_type": "stream",
     "text": [
      "              precision    recall  f1-score   support\n",
      "\n",
      "           0       0.91      0.88      0.89       115\n",
      "           1       0.70      0.59      0.64        76\n",
      "           2       0.74      0.86      0.79       104\n",
      "\n",
      "    accuracy                           0.80       295\n",
      "   macro avg       0.78      0.78      0.78       295\n",
      "weighted avg       0.80      0.80      0.79       295\n",
      "\n"
     ]
    },
    {
     "data": {
      "text/plain": [
       "<sklearn.metrics._plot.confusion_matrix.ConfusionMatrixDisplay at 0x19759667280>"
      ]
     },
     "execution_count": 14,
     "metadata": {},
     "output_type": "execute_result"
    },
    {
     "data": {
      "image/png": "[encoded data removed]",
      "text/plain": [
       "<Figure size 432x288 with 2 Axes>"
      ]
     },
     "metadata": {
      "needs_background": "light"
     },
     "output_type": "display_data"
    }
   ],
   "source": [
    "# SVC Post-Regularization\n",
    "model = SVC(gamma=2, C=1)\n",
    "model.fit(x_train, y_train)\n",
    "y_pred = model.predict(x_test)\n",
    "\n",
    "print(classification_report(y_test, y_pred))\n",
    "plot_confusion_matrix(model, x_test, y_test, xticks_rotation=45)"
   ]
  },
  {
   "cell_type": "code",
   "execution_count": 107,
   "metadata": {},
   "outputs": [
    {
     "name": "stdout",
     "output_type": "stream",
     "text": [
      "              precision    recall  f1-score   support\n",
      "\n",
      "           0       0.95      0.91      0.93       115\n",
      "           1       0.73      0.70      0.71        76\n",
      "           2       0.79      0.86      0.82       104\n",
      "\n",
      "    accuracy                           0.84       295\n",
      "   macro avg       0.83      0.82      0.82       295\n",
      "weighted avg       0.84      0.84      0.84       295\n",
      "\n"
     ]
    },
    {
     "data": {
      "text/plain": [
       "<sklearn.metrics._plot.confusion_matrix.ConfusionMatrixDisplay at 0x19761e3e1c0>"
      ]
     },
     "execution_count": 107,
     "metadata": {},
     "output_type": "execute_result"
    },
    {
     "data": {
      "image/png": "[encoded data removed]",
      "text/plain": [
       "<Figure size 432x288 with 2 Axes>"
      ]
     },
     "metadata": {
      "needs_background": "light"
     },
     "output_type": "display_data"
    }
   ],
   "source": [
    "# adaboost\n",
    "base_model = RandomForestClassifier(n_estimators=100)\n",
    "base_model.fit(x_train, y_train)\n",
    "\n",
    "model = AdaBoostClassifier(base_estimator=base_model, n_estimators=100, learning_rate=1)\n",
    "model.fit(x_train, y_train)\n",
    "y_pred = model.predict(x_test)\n",
    "\n",
    "print(classification_report(y_test, y_pred))\n",
    "plot_confusion_matrix(model, x_test, y_test, xticks_rotation=45)"
   ]
  },
  {
   "cell_type": "code",
   "execution_count": 15,
   "metadata": {},
   "outputs": [],
   "source": [
    "# Onehot after split\n",
    "x_train, x_test, y_train, y_test = train_test_split(data, target, test_size=0.25, random_state=0)\n",
    "x_train.shape, x_test.shape, y_train.shape, y_test.shape\n",
    "\n",
    "y_train_1hot = []\n",
    "for data in y_train:\n",
    "    hot = np.zeros(3)\n",
    "    hot[int(data)] = 1\n",
    "    y_train_1hot.append(hot)\n",
    "        \n",
    "y_test_1hot = []\n",
    "for data in y_test:\n",
    "    hot = np.zeros(3)\n",
    "    hot[int(data)] = 1\n",
    "    y_test_1hot.append(hot)\n",
    "    \n",
    "y_train_1hot = np.asarray(y_train_1hot)\n",
    "y_test_1hot = np.asarray(y_test_1hot)"
   ]
  },
  {
   "cell_type": "code",
   "execution_count": 16,
   "metadata": {},
   "outputs": [
    {
     "name": "stdout",
     "output_type": "stream",
     "text": [
      "(882, 12)\n",
      "(882, 3)\n"
     ]
    }
   ],
   "source": [
    "print(x_train.shape)\n",
    "print(y_train_1hot.shape)"
   ]
  },
  {
   "cell_type": "code",
   "execution_count": 79,
   "metadata": {},
   "outputs": [],
   "source": [
    "# 1 hidden layer, Adam\n",
    "model = Sequential()\n",
    "\n",
    "model.add(layers.Dense(256, activation='relu', input_shape=[12]))\n",
    "model.add(layers.Dense(3, activation='softmax'))\n",
    "\n",
    "model.compile(optimizers.Adam(learning_rate=0.001, beta_1=0.95),\n",
    "              loss=tf.keras.losses.CategoricalCrossentropy(from_logits=True),\n",
    "              metrics=['accuracy'])"
   ]
  },
  {
   "cell_type": "code",
   "execution_count": 80,
   "metadata": {
    "scrolled": true
   },
   "outputs": [
    {
     "name": "stdout",
     "output_type": "stream",
     "text": [
      "Epoch 1/10\n",
      "28/28 [==============================] - 0s 8ms/step - loss: 1.0389 - accuracy: 0.4868 - val_loss: 0.8963 - val_accuracy: 0.6305\n",
      "Epoch 2/10\n",
      "28/28 [==============================] - 0s 4ms/step - loss: 0.8077 - accuracy: 0.6970 - val_loss: 0.7382 - val_accuracy: 0.7288\n",
      "Epoch 3/10\n",
      "28/28 [==============================] - 0s 4ms/step - loss: 0.6924 - accuracy: 0.7473 - val_loss: 0.6498 - val_accuracy: 0.7729\n",
      "Epoch 4/10\n",
      "28/28 [==============================] - 0s 4ms/step - loss: 0.5917 - accuracy: 0.7801 - val_loss: 0.5984 - val_accuracy: 0.7763\n",
      "Epoch 5/10\n",
      "28/28 [==============================] - 0s 4ms/step - loss: 0.5698 - accuracy: 0.7798 - val_loss: 0.5673 - val_accuracy: 0.7763\n",
      "Epoch 6/10\n",
      "28/28 [==============================] - 0s 4ms/step - loss: 0.5018 - accuracy: 0.8145 - val_loss: 0.5543 - val_accuracy: 0.7831\n",
      "Epoch 7/10\n",
      "28/28 [==============================] - 0s 5ms/step - loss: 0.5118 - accuracy: 0.7990 - val_loss: 0.5374 - val_accuracy: 0.8034\n",
      "Epoch 8/10\n",
      "28/28 [==============================] - 0s 3ms/step - loss: 0.5041 - accuracy: 0.7889 - val_loss: 0.5282 - val_accuracy: 0.8034\n",
      "Epoch 9/10\n",
      "28/28 [==============================] - 0s 4ms/step - loss: 0.5129 - accuracy: 0.7869 - val_loss: 0.5238 - val_accuracy: 0.7898\n",
      "Epoch 10/10\n",
      "28/28 [==============================] - 0s 3ms/step - loss: 0.5155 - accuracy: 0.7769 - val_loss: 0.5154 - val_accuracy: 0.7966\n"
     ]
    }
   ],
   "source": [
    "history = model.fit(x_train, y_train_1hot, batch_size=32, epochs=10, validation_data=(x_test, y_test_1hot))"
   ]
  },
  {
   "cell_type": "code",
   "execution_count": 81,
   "metadata": {},
   "outputs": [
    {
     "name": "stdout",
     "output_type": "stream",
     "text": [
      "10/10 - 0s - loss: 0.5154 - accuracy: 0.7966\n",
      "Test accuracy: 0.7966101765632629\n"
     ]
    }
   ],
   "source": [
    "test_loss, test_acc = model.evaluate(x_test,  y_test_1hot, verbose=2)\n",
    "print('Test accuracy:', test_acc)"
   ]
  },
  {
   "cell_type": "code",
   "execution_count": 82,
   "metadata": {},
   "outputs": [
    {
     "name": "stdout",
     "output_type": "stream",
     "text": [
      "10/10 - 0s - loss: 0.5154 - accuracy: 0.7966\n",
      "0.7966101765632629\n"
     ]
    },
    {
     "data": {
      "image/png": "[encoded data removed]",
      "text/plain": [
       "<Figure size 432x288 with 1 Axes>"
      ]
     },
     "metadata": {
      "needs_background": "light"
     },
     "output_type": "display_data"
    }
   ],
   "source": [
    "plt.plot(history.history['accuracy'], label = 'accuracy')\n",
    "plt.plot(history.history['val_accuracy'], label = 'test_accuracy')\n",
    "plt.xlabel('Epoch')\n",
    "plt.ylabel('Accuracy')\n",
    "plt.ylim([0, 1])\n",
    "plt.legend(loc='lower right')\n",
    "\n",
    "test_loss, test_acc = model.evaluate(x_test,  y_test_1hot, verbose=2)\n",
    "\n",
    "print(test_acc)"
   ]
  },
  {
   "cell_type": "code",
   "execution_count": 71,
   "metadata": {},
   "outputs": [],
   "source": [
    "# 2 hidden layers, Adam\n",
    "model = Sequential()\n",
    "\n",
    "model.add(layers.Dense(256, activation='relu', input_shape=[12]))\n",
    "model.add(layers.Dense(512, activation='relu'))\n",
    "model.add(layers.Dense(3, activation='softmax'))\n",
    "\n",
    "model.compile(optimizers.Adam(learning_rate=0.00025, beta_1=0.95),\n",
    "              loss=tf.keras.losses.CategoricalCrossentropy(from_logits=True),\n",
    "              metrics=['accuracy'])"
   ]
  },
  {
   "cell_type": "code",
   "execution_count": 72,
   "metadata": {},
   "outputs": [
    {
     "name": "stdout",
     "output_type": "stream",
     "text": [
      "Epoch 1/10\n",
      "56/56 [==============================] - 1s 6ms/step - loss: 0.9740 - accuracy: 0.5445 - val_loss: 0.7450 - val_accuracy: 0.7119\n",
      "Epoch 2/10\n",
      "56/56 [==============================] - 0s 3ms/step - loss: 0.6650 - accuracy: 0.7249 - val_loss: 0.5984 - val_accuracy: 0.7627\n",
      "Epoch 3/10\n",
      "56/56 [==============================] - 0s 4ms/step - loss: 0.5620 - accuracy: 0.7535 - val_loss: 0.5517 - val_accuracy: 0.7661\n",
      "Epoch 4/10\n",
      "56/56 [==============================] - 0s 4ms/step - loss: 0.4987 - accuracy: 0.7906 - val_loss: 0.5356 - val_accuracy: 0.7797\n",
      "Epoch 5/10\n",
      "56/56 [==============================] - 0s 3ms/step - loss: 0.5113 - accuracy: 0.7963 - val_loss: 0.5589 - val_accuracy: 0.7627\n",
      "Epoch 6/10\n",
      "56/56 [==============================] - 0s 3ms/step - loss: 0.5288 - accuracy: 0.7614 - val_loss: 0.5066 - val_accuracy: 0.7932\n",
      "Epoch 7/10\n",
      "56/56 [==============================] - 0s 3ms/step - loss: 0.4864 - accuracy: 0.7943 - val_loss: 0.4972 - val_accuracy: 0.8068\n",
      "Epoch 8/10\n",
      "56/56 [==============================] - 0s 3ms/step - loss: 0.4756 - accuracy: 0.8041 - val_loss: 0.5002 - val_accuracy: 0.8068\n",
      "Epoch 9/10\n",
      "56/56 [==============================] - 0s 3ms/step - loss: 0.4559 - accuracy: 0.8252 - val_loss: 0.4922 - val_accuracy: 0.7932\n",
      "Epoch 10/10\n",
      "56/56 [==============================] - 0s 3ms/step - loss: 0.4706 - accuracy: 0.7861 - val_loss: 0.4890 - val_accuracy: 0.8000\n"
     ]
    }
   ],
   "source": [
    "history = model.fit(x_train, y_train_1hot, batch_size=16, epochs=10, validation_data=(x_test, y_test_1hot))"
   ]
  },
  {
   "cell_type": "code",
   "execution_count": 73,
   "metadata": {},
   "outputs": [
    {
     "name": "stdout",
     "output_type": "stream",
     "text": [
      "10/10 - 0s - loss: 0.4890 - accuracy: 0.8000\n",
      "Test accuracy: 0.800000011920929\n"
     ]
    }
   ],
   "source": [
    "test_loss, test_acc = model.evaluate(x_test,  y_test_1hot, verbose=2)\n",
    "print('Test accuracy:', test_acc)"
   ]
  },
  {
   "cell_type": "code",
   "execution_count": 74,
   "metadata": {},
   "outputs": [
    {
     "name": "stdout",
     "output_type": "stream",
     "text": [
      "10/10 - 0s - loss: 0.4890 - accuracy: 0.8000\n",
      "0.800000011920929\n"
     ]
    },
    {
     "data": {
      "image/png": "[encoded data removed]",
      "text/plain": [
       "<Figure size 432x288 with 1 Axes>"
      ]
     },
     "metadata": {
      "needs_background": "light"
     },
     "output_type": "display_data"
    }
   ],
   "source": [
    "plt.plot(history.history['accuracy'], label = 'accuracy')\n",
    "plt.plot(history.history['val_accuracy'], label = 'test_accuracy')\n",
    "plt.xlabel('Epoch')\n",
    "plt.ylabel('Accuracy')\n",
    "plt.ylim([0, 1])\n",
    "plt.legend(loc='lower right')\n",
    "\n",
    "test_loss, test_acc = model.evaluate(x_test,  y_test_1hot, verbose=2)\n",
    "\n",
    "print(test_acc)"
   ]
  },
  {
   "cell_type": "code",
   "execution_count": 75,
   "metadata": {},
   "outputs": [],
   "source": [
    "model = Sequential()\n",
    "\n",
    "model.add(layers.Dense(256, activation='relu', input_shape=[12]))\n",
    "model.add(layers.Dense(512, activation='relu'))\n",
    "model.add(layers.Dense(3, activation='softmax'))\n",
    "\n",
    "model.compile(optimizers.SGD(learning_rate=0.25),\n",
    "              loss=tf.keras.losses.CategoricalCrossentropy(from_logits=True),\n",
    "              metrics=['accuracy'])"
   ]
  },
  {
   "cell_type": "code",
   "execution_count": 76,
   "metadata": {},
   "outputs": [
    {
     "name": "stdout",
     "output_type": "stream",
     "text": [
      "Epoch 1/20\n",
      "56/56 [==============================] - 1s 5ms/step - loss: 0.8258 - accuracy: 0.6137 - val_loss: 0.6317 - val_accuracy: 0.6949\n",
      "Epoch 2/20\n",
      "56/56 [==============================] - 0s 3ms/step - loss: 0.5554 - accuracy: 0.7368 - val_loss: 0.6339 - val_accuracy: 0.7492\n",
      "Epoch 3/20\n",
      "56/56 [==============================] - 0s 3ms/step - loss: 0.5579 - accuracy: 0.7509 - val_loss: 0.5673 - val_accuracy: 0.7356\n",
      "Epoch 4/20\n",
      "56/56 [==============================] - 0s 3ms/step - loss: 0.4797 - accuracy: 0.8210 - val_loss: 0.6265 - val_accuracy: 0.7492\n",
      "Epoch 5/20\n",
      "56/56 [==============================] - 0s 3ms/step - loss: 0.4980 - accuracy: 0.7877 - val_loss: 0.5286 - val_accuracy: 0.7695\n",
      "Epoch 6/20\n",
      "56/56 [==============================] - 0s 3ms/step - loss: 0.4900 - accuracy: 0.7936 - val_loss: 0.6598 - val_accuracy: 0.7288\n",
      "Epoch 7/20\n",
      "56/56 [==============================] - 0s 3ms/step - loss: 0.4910 - accuracy: 0.7985 - val_loss: 0.5517 - val_accuracy: 0.7390\n",
      "Epoch 8/20\n",
      "56/56 [==============================] - 0s 3ms/step - loss: 0.4871 - accuracy: 0.7898 - val_loss: 0.5801 - val_accuracy: 0.7729\n",
      "Epoch 9/20\n",
      "56/56 [==============================] - 0s 3ms/step - loss: 0.4883 - accuracy: 0.7798 - val_loss: 0.5131 - val_accuracy: 0.7729\n",
      "Epoch 10/20\n",
      "56/56 [==============================] - 0s 3ms/step - loss: 0.5023 - accuracy: 0.7965 - val_loss: 0.5291 - val_accuracy: 0.7831\n",
      "Epoch 11/20\n",
      "56/56 [==============================] - 0s 3ms/step - loss: 0.4562 - accuracy: 0.7976 - val_loss: 0.9686 - val_accuracy: 0.5627\n",
      "Epoch 12/20\n",
      "56/56 [==============================] - 0s 3ms/step - loss: 0.5341 - accuracy: 0.7620 - val_loss: 0.6193 - val_accuracy: 0.7729\n",
      "Epoch 13/20\n",
      "56/56 [==============================] - 0s 3ms/step - loss: 0.4580 - accuracy: 0.8301 - val_loss: 0.4915 - val_accuracy: 0.8136\n",
      "Epoch 14/20\n",
      "56/56 [==============================] - 0s 3ms/step - loss: 0.4528 - accuracy: 0.7967 - val_loss: 0.6238 - val_accuracy: 0.7119\n",
      "Epoch 15/20\n",
      "56/56 [==============================] - 0s 3ms/step - loss: 0.4402 - accuracy: 0.8125 - val_loss: 1.0330 - val_accuracy: 0.5898\n",
      "Epoch 16/20\n",
      "56/56 [==============================] - 0s 3ms/step - loss: 0.4878 - accuracy: 0.8006 - val_loss: 0.4624 - val_accuracy: 0.8068\n",
      "Epoch 17/20\n",
      "56/56 [==============================] - 0s 3ms/step - loss: 0.4263 - accuracy: 0.8205 - val_loss: 0.4719 - val_accuracy: 0.7966\n",
      "Epoch 18/20\n",
      "56/56 [==============================] - 0s 3ms/step - loss: 0.3967 - accuracy: 0.8239 - val_loss: 0.4796 - val_accuracy: 0.7898\n",
      "Epoch 19/20\n",
      "56/56 [==============================] - 0s 3ms/step - loss: 0.4007 - accuracy: 0.8383 - val_loss: 0.5436 - val_accuracy: 0.7424\n",
      "Epoch 20/20\n",
      "56/56 [==============================] - 0s 3ms/step - loss: 0.4518 - accuracy: 0.7958 - val_loss: 0.6852 - val_accuracy: 0.6915\n"
     ]
    }
   ],
   "source": [
    "history = model.fit(x_train, y_train_1hot, batch_size=16, epochs=20, validation_data=(x_test, y_test_1hot))"
   ]
  },
  {
   "cell_type": "code",
   "execution_count": 77,
   "metadata": {},
   "outputs": [
    {
     "name": "stdout",
     "output_type": "stream",
     "text": [
      "10/10 - 0s - loss: 0.6852 - accuracy: 0.6915\n",
      "Test accuracy: 0.691525399684906\n"
     ]
    }
   ],
   "source": [
    "test_loss, test_acc = model.evaluate(x_test,  y_test_1hot, verbose=2)\n",
    "print('Test accuracy:', test_acc)"
   ]
  },
  {
   "cell_type": "code",
   "execution_count": 78,
   "metadata": {},
   "outputs": [
    {
     "name": "stdout",
     "output_type": "stream",
     "text": [
      "10/10 - 0s - loss: 0.6852 - accuracy: 0.6915\n",
      "0.691525399684906\n"
     ]
    },
    {
     "data": {
      "image/png": "[encoded data removed]",
      "text/plain": [
       "<Figure size 432x288 with 1 Axes>"
      ]
     },
     "metadata": {
      "needs_background": "light"
     },
     "output_type": "display_data"
    }
   ],
   "source": [
    "plt.plot(history.history['accuracy'], label = 'accuracy')\n",
    "plt.plot(history.history['val_accuracy'], label = 'test_accuracy')\n",
    "plt.xlabel('Epoch')\n",
    "plt.ylabel('Accuracy')\n",
    "plt.ylim([0, 1])\n",
    "plt.legend(loc='lower right')\n",
    "\n",
    "test_loss, test_acc = model.evaluate(x_test,  y_test_1hot, verbose=2)\n",
    "\n",
    "print(test_acc)"
   ]
  },
  {
   "cell_type": "code",
   "execution_count": 29,
   "metadata": {},
   "outputs": [],
   "source": [
    "# \n",
    "path = os.getcwd() + '\\\\data\\specific_data_categorized.csv'\n",
    "data = pd.read_csv(path, header=0, names=['name', 'artists', 'danceability', 'energy', 'key', 'loudness', 'mode', 'speechiness', 'acousticness', 'instrumentalness', 'liveness', 'valence', 'tempo', 'type', 'audio_features', 'id' , 'uri', 'track_href', 'analysis_url', 'duration_ms', 'time_signature', 'target'], encoding = \"ISO-8859-1\")\n",
    "# Remove features that don't contribute to the classification of the tracks\n",
    "del data['name']\n",
    "del data['artists']\n",
    "del data['type']\n",
    "del data['audio_features']\n",
    "del data['id']\n",
    "del data['uri']\n",
    "del data['track_href']\n",
    "del data['analysis_url']"
   ]
  },
  {
   "cell_type": "code",
   "execution_count": 30,
   "metadata": {},
   "outputs": [
    {
     "ename": "ValueError",
     "evalue": "'c' argument must be a color, a sequence of colors, or a sequence of numbers, not 0       brown\n1       brown\n2       brown\n3       brown\n4       brown\n        ...  \n1172     navy\n1173     navy\n1174     navy\n1175     navy\n1176     navy\nName: target, Length: 1177, dtype: object",
     "output_type": "error",
     "traceback": [
      "\u001b[1;31m---------------------------------------------------------------------------\u001b[0m",
      "\u001b[1;31mValueError\u001b[0m                                Traceback (most recent call last)",
      "\u001b[1;32m~\\anaconda3\\lib\\site-packages\\matplotlib\\axes\\_axes.py\u001b[0m in \u001b[0;36m_parse_scatter_color_args\u001b[1;34m(c, edgecolors, kwargs, xsize, get_next_color_func)\u001b[0m\n\u001b[0;32m   4290\u001b[0m             \u001b[1;32mtry\u001b[0m\u001b[1;33m:\u001b[0m  \u001b[1;31m# Is 'c' acceptable as PathCollection facecolors?\u001b[0m\u001b[1;33m\u001b[0m\u001b[1;33m\u001b[0m\u001b[0m\n\u001b[1;32m-> 4291\u001b[1;33m                 \u001b[0mcolors\u001b[0m \u001b[1;33m=\u001b[0m \u001b[0mmcolors\u001b[0m\u001b[1;33m.\u001b[0m\u001b[0mto_rgba_array\u001b[0m\u001b[1;33m(\u001b[0m\u001b[0mc\u001b[0m\u001b[1;33m)\u001b[0m\u001b[1;33m\u001b[0m\u001b[1;33m\u001b[0m\u001b[0m\n\u001b[0m\u001b[0;32m   4292\u001b[0m             \u001b[1;32mexcept\u001b[0m \u001b[1;33m(\u001b[0m\u001b[0mTypeError\u001b[0m\u001b[1;33m,\u001b[0m \u001b[0mValueError\u001b[0m\u001b[1;33m)\u001b[0m \u001b[1;32mas\u001b[0m \u001b[0merr\u001b[0m\u001b[1;33m:\u001b[0m\u001b[1;33m\u001b[0m\u001b[1;33m\u001b[0m\u001b[0m\n",
      "\u001b[1;32m~\\anaconda3\\lib\\site-packages\\matplotlib\\colors.py\u001b[0m in \u001b[0;36mto_rgba_array\u001b[1;34m(c, alpha)\u001b[0m\n\u001b[0;32m    340\u001b[0m     \u001b[1;32melse\u001b[0m\u001b[1;33m:\u001b[0m\u001b[1;33m\u001b[0m\u001b[1;33m\u001b[0m\u001b[0m\n\u001b[1;32m--> 341\u001b[1;33m         \u001b[1;32mreturn\u001b[0m \u001b[0mnp\u001b[0m\u001b[1;33m.\u001b[0m\u001b[0marray\u001b[0m\u001b[1;33m(\u001b[0m\u001b[1;33m[\u001b[0m\u001b[0mto_rgba\u001b[0m\u001b[1;33m(\u001b[0m\u001b[0mcc\u001b[0m\u001b[1;33m,\u001b[0m \u001b[0malpha\u001b[0m\u001b[1;33m)\u001b[0m \u001b[1;32mfor\u001b[0m \u001b[0mcc\u001b[0m \u001b[1;32min\u001b[0m \u001b[0mc\u001b[0m\u001b[1;33m]\u001b[0m\u001b[1;33m)\u001b[0m\u001b[1;33m\u001b[0m\u001b[1;33m\u001b[0m\u001b[0m\n\u001b[0m\u001b[0;32m    342\u001b[0m \u001b[1;33m\u001b[0m\u001b[0m\n",
      "\u001b[1;32m~\\anaconda3\\lib\\site-packages\\matplotlib\\colors.py\u001b[0m in \u001b[0;36m<listcomp>\u001b[1;34m(.0)\u001b[0m\n\u001b[0;32m    340\u001b[0m     \u001b[1;32melse\u001b[0m\u001b[1;33m:\u001b[0m\u001b[1;33m\u001b[0m\u001b[1;33m\u001b[0m\u001b[0m\n\u001b[1;32m--> 341\u001b[1;33m         \u001b[1;32mreturn\u001b[0m \u001b[0mnp\u001b[0m\u001b[1;33m.\u001b[0m\u001b[0marray\u001b[0m\u001b[1;33m(\u001b[0m\u001b[1;33m[\u001b[0m\u001b[0mto_rgba\u001b[0m\u001b[1;33m(\u001b[0m\u001b[0mcc\u001b[0m\u001b[1;33m,\u001b[0m \u001b[0malpha\u001b[0m\u001b[1;33m)\u001b[0m \u001b[1;32mfor\u001b[0m \u001b[0mcc\u001b[0m \u001b[1;32min\u001b[0m \u001b[0mc\u001b[0m\u001b[1;33m]\u001b[0m\u001b[1;33m)\u001b[0m\u001b[1;33m\u001b[0m\u001b[1;33m\u001b[0m\u001b[0m\n\u001b[0m\u001b[0;32m    342\u001b[0m \u001b[1;33m\u001b[0m\u001b[0m\n",
      "\u001b[1;32m~\\anaconda3\\lib\\site-packages\\matplotlib\\colors.py\u001b[0m in \u001b[0;36mto_rgba\u001b[1;34m(c, alpha)\u001b[0m\n\u001b[0;32m    188\u001b[0m     \u001b[1;32mif\u001b[0m \u001b[0mrgba\u001b[0m \u001b[1;32mis\u001b[0m \u001b[1;32mNone\u001b[0m\u001b[1;33m:\u001b[0m  \u001b[1;31m# Suppress exception chaining of cache lookup failure.\u001b[0m\u001b[1;33m\u001b[0m\u001b[1;33m\u001b[0m\u001b[0m\n\u001b[1;32m--> 189\u001b[1;33m         \u001b[0mrgba\u001b[0m \u001b[1;33m=\u001b[0m \u001b[0m_to_rgba_no_colorcycle\u001b[0m\u001b[1;33m(\u001b[0m\u001b[0mc\u001b[0m\u001b[1;33m,\u001b[0m \u001b[0malpha\u001b[0m\u001b[1;33m)\u001b[0m\u001b[1;33m\u001b[0m\u001b[1;33m\u001b[0m\u001b[0m\n\u001b[0m\u001b[0;32m    190\u001b[0m         \u001b[1;32mtry\u001b[0m\u001b[1;33m:\u001b[0m\u001b[1;33m\u001b[0m\u001b[1;33m\u001b[0m\u001b[0m\n",
      "\u001b[1;32m~\\anaconda3\\lib\\site-packages\\matplotlib\\colors.py\u001b[0m in \u001b[0;36m_to_rgba_no_colorcycle\u001b[1;34m(c, alpha)\u001b[0m\n\u001b[0;32m    262\u001b[0m     \u001b[1;32mif\u001b[0m \u001b[1;32mnot\u001b[0m \u001b[0mnp\u001b[0m\u001b[1;33m.\u001b[0m\u001b[0miterable\u001b[0m\u001b[1;33m(\u001b[0m\u001b[0mc\u001b[0m\u001b[1;33m)\u001b[0m\u001b[1;33m:\u001b[0m\u001b[1;33m\u001b[0m\u001b[1;33m\u001b[0m\u001b[0m\n\u001b[1;32m--> 263\u001b[1;33m         \u001b[1;32mraise\u001b[0m \u001b[0mValueError\u001b[0m\u001b[1;33m(\u001b[0m\u001b[1;34mf\"Invalid RGBA argument: {orig_c!r}\"\u001b[0m\u001b[1;33m)\u001b[0m\u001b[1;33m\u001b[0m\u001b[1;33m\u001b[0m\u001b[0m\n\u001b[0m\u001b[0;32m    264\u001b[0m     \u001b[1;32mif\u001b[0m \u001b[0mlen\u001b[0m\u001b[1;33m(\u001b[0m\u001b[0mc\u001b[0m\u001b[1;33m)\u001b[0m \u001b[1;32mnot\u001b[0m \u001b[1;32min\u001b[0m \u001b[1;33m[\u001b[0m\u001b[1;36m3\u001b[0m\u001b[1;33m,\u001b[0m \u001b[1;36m4\u001b[0m\u001b[1;33m]\u001b[0m\u001b[1;33m:\u001b[0m\u001b[1;33m\u001b[0m\u001b[1;33m\u001b[0m\u001b[0m\n",
      "\u001b[1;31mValueError\u001b[0m: Invalid RGBA argument: nan",
      "\nThe above exception was the direct cause of the following exception:\n",
      "\u001b[1;31mValueError\u001b[0m                                Traceback (most recent call last)",
      "\u001b[1;32m<ipython-input-30-7797cb951367>\u001b[0m in \u001b[0;36m<module>\u001b[1;34m\u001b[0m\n\u001b[0;32m     19\u001b[0m \u001b[1;33m\u001b[0m\u001b[0m\n\u001b[0;32m     20\u001b[0m \u001b[1;31m# How danceable the song is vs the energy/intensity of the song\u001b[0m\u001b[1;33m\u001b[0m\u001b[1;33m\u001b[0m\u001b[1;33m\u001b[0m\u001b[0m\n\u001b[1;32m---> 21\u001b[1;33m \u001b[0max\u001b[0m\u001b[1;33m.\u001b[0m\u001b[0mscatter\u001b[0m\u001b[1;33m(\u001b[0m\u001b[0mdata\u001b[0m\u001b[1;33m[\u001b[0m\u001b[1;34m'danceability'\u001b[0m\u001b[1;33m]\u001b[0m\u001b[1;33m,\u001b[0m \u001b[0mdata\u001b[0m\u001b[1;33m[\u001b[0m\u001b[1;34m'energy'\u001b[0m\u001b[1;33m]\u001b[0m\u001b[1;33m,\u001b[0m \u001b[0mc\u001b[0m\u001b[1;33m=\u001b[0m\u001b[0mdata\u001b[0m\u001b[1;33m[\u001b[0m\u001b[1;34m'target'\u001b[0m\u001b[1;33m]\u001b[0m\u001b[1;33m.\u001b[0m\u001b[0mmap\u001b[0m\u001b[1;33m(\u001b[0m\u001b[0mcolors\u001b[0m\u001b[1;33m)\u001b[0m\u001b[1;33m)\u001b[0m\u001b[1;33m\u001b[0m\u001b[1;33m\u001b[0m\u001b[0m\n\u001b[0m\u001b[0;32m     22\u001b[0m \u001b[1;33m\u001b[0m\u001b[0m\n\u001b[0;32m     23\u001b[0m \u001b[0mplt\u001b[0m\u001b[1;33m.\u001b[0m\u001b[0mlegend\u001b[0m\u001b[1;33m(\u001b[0m\u001b[0mhandles\u001b[0m\u001b[1;33m=\u001b[0m\u001b[0mlegend_elements\u001b[0m\u001b[1;33m,\u001b[0m \u001b[0mloc\u001b[0m\u001b[1;33m=\u001b[0m\u001b[1;34m'upper left'\u001b[0m\u001b[1;33m)\u001b[0m\u001b[1;33m\u001b[0m\u001b[1;33m\u001b[0m\u001b[0m\n",
      "\u001b[1;32m~\\anaconda3\\lib\\site-packages\\matplotlib\\__init__.py\u001b[0m in \u001b[0;36minner\u001b[1;34m(ax, data, *args, **kwargs)\u001b[0m\n\u001b[0;32m   1436\u001b[0m     \u001b[1;32mdef\u001b[0m \u001b[0minner\u001b[0m\u001b[1;33m(\u001b[0m\u001b[0max\u001b[0m\u001b[1;33m,\u001b[0m \u001b[1;33m*\u001b[0m\u001b[0margs\u001b[0m\u001b[1;33m,\u001b[0m \u001b[0mdata\u001b[0m\u001b[1;33m=\u001b[0m\u001b[1;32mNone\u001b[0m\u001b[1;33m,\u001b[0m \u001b[1;33m**\u001b[0m\u001b[0mkwargs\u001b[0m\u001b[1;33m)\u001b[0m\u001b[1;33m:\u001b[0m\u001b[1;33m\u001b[0m\u001b[1;33m\u001b[0m\u001b[0m\n\u001b[0;32m   1437\u001b[0m         \u001b[1;32mif\u001b[0m \u001b[0mdata\u001b[0m \u001b[1;32mis\u001b[0m \u001b[1;32mNone\u001b[0m\u001b[1;33m:\u001b[0m\u001b[1;33m\u001b[0m\u001b[1;33m\u001b[0m\u001b[0m\n\u001b[1;32m-> 1438\u001b[1;33m             \u001b[1;32mreturn\u001b[0m \u001b[0mfunc\u001b[0m\u001b[1;33m(\u001b[0m\u001b[0max\u001b[0m\u001b[1;33m,\u001b[0m \u001b[1;33m*\u001b[0m\u001b[0mmap\u001b[0m\u001b[1;33m(\u001b[0m\u001b[0msanitize_sequence\u001b[0m\u001b[1;33m,\u001b[0m \u001b[0margs\u001b[0m\u001b[1;33m)\u001b[0m\u001b[1;33m,\u001b[0m \u001b[1;33m**\u001b[0m\u001b[0mkwargs\u001b[0m\u001b[1;33m)\u001b[0m\u001b[1;33m\u001b[0m\u001b[1;33m\u001b[0m\u001b[0m\n\u001b[0m\u001b[0;32m   1439\u001b[0m \u001b[1;33m\u001b[0m\u001b[0m\n\u001b[0;32m   1440\u001b[0m         \u001b[0mbound\u001b[0m \u001b[1;33m=\u001b[0m \u001b[0mnew_sig\u001b[0m\u001b[1;33m.\u001b[0m\u001b[0mbind\u001b[0m\u001b[1;33m(\u001b[0m\u001b[0max\u001b[0m\u001b[1;33m,\u001b[0m \u001b[1;33m*\u001b[0m\u001b[0margs\u001b[0m\u001b[1;33m,\u001b[0m \u001b[1;33m**\u001b[0m\u001b[0mkwargs\u001b[0m\u001b[1;33m)\u001b[0m\u001b[1;33m\u001b[0m\u001b[1;33m\u001b[0m\u001b[0m\n",
      "\u001b[1;32m~\\anaconda3\\lib\\site-packages\\matplotlib\\cbook\\deprecation.py\u001b[0m in \u001b[0;36mwrapper\u001b[1;34m(*inner_args, **inner_kwargs)\u001b[0m\n\u001b[0;32m    409\u001b[0m                          \u001b[1;32melse\u001b[0m \u001b[0mdeprecation_addendum\u001b[0m\u001b[1;33m,\u001b[0m\u001b[1;33m\u001b[0m\u001b[1;33m\u001b[0m\u001b[0m\n\u001b[0;32m    410\u001b[0m                 **kwargs)\n\u001b[1;32m--> 411\u001b[1;33m         \u001b[1;32mreturn\u001b[0m \u001b[0mfunc\u001b[0m\u001b[1;33m(\u001b[0m\u001b[1;33m*\u001b[0m\u001b[0minner_args\u001b[0m\u001b[1;33m,\u001b[0m \u001b[1;33m**\u001b[0m\u001b[0minner_kwargs\u001b[0m\u001b[1;33m)\u001b[0m\u001b[1;33m\u001b[0m\u001b[1;33m\u001b[0m\u001b[0m\n\u001b[0m\u001b[0;32m    412\u001b[0m \u001b[1;33m\u001b[0m\u001b[0m\n\u001b[0;32m    413\u001b[0m     \u001b[1;32mreturn\u001b[0m \u001b[0mwrapper\u001b[0m\u001b[1;33m\u001b[0m\u001b[1;33m\u001b[0m\u001b[0m\n",
      "\u001b[1;32m~\\anaconda3\\lib\\site-packages\\matplotlib\\axes\\_axes.py\u001b[0m in \u001b[0;36mscatter\u001b[1;34m(self, x, y, s, c, marker, cmap, norm, vmin, vmax, alpha, linewidths, verts, edgecolors, plotnonfinite, **kwargs)\u001b[0m\n\u001b[0;32m   4449\u001b[0m \u001b[1;33m\u001b[0m\u001b[0m\n\u001b[0;32m   4450\u001b[0m         \u001b[0mc\u001b[0m\u001b[1;33m,\u001b[0m \u001b[0mcolors\u001b[0m\u001b[1;33m,\u001b[0m \u001b[0medgecolors\u001b[0m \u001b[1;33m=\u001b[0m\u001b[0;31m \u001b[0m\u001b[0;31m\\\u001b[0m\u001b[1;33m\u001b[0m\u001b[1;33m\u001b[0m\u001b[0m\n\u001b[1;32m-> 4451\u001b[1;33m             self._parse_scatter_color_args(\n\u001b[0m\u001b[0;32m   4452\u001b[0m                 \u001b[0mc\u001b[0m\u001b[1;33m,\u001b[0m \u001b[0medgecolors\u001b[0m\u001b[1;33m,\u001b[0m \u001b[0mkwargs\u001b[0m\u001b[1;33m,\u001b[0m \u001b[0mx\u001b[0m\u001b[1;33m.\u001b[0m\u001b[0msize\u001b[0m\u001b[1;33m,\u001b[0m\u001b[1;33m\u001b[0m\u001b[1;33m\u001b[0m\u001b[0m\n\u001b[0;32m   4453\u001b[0m                 get_next_color_func=self._get_patches_for_fill.get_next_color)\n",
      "\u001b[1;32m~\\anaconda3\\lib\\site-packages\\matplotlib\\axes\\_axes.py\u001b[0m in \u001b[0;36m_parse_scatter_color_args\u001b[1;34m(c, edgecolors, kwargs, xsize, get_next_color_func)\u001b[0m\n\u001b[0;32m   4298\u001b[0m                     \u001b[1;31m# Both the mapping *and* the RGBA conversion failed: pretty\u001b[0m\u001b[1;33m\u001b[0m\u001b[1;33m\u001b[0m\u001b[1;33m\u001b[0m\u001b[0m\n\u001b[0;32m   4299\u001b[0m                     \u001b[1;31m# severe failure => one may appreciate a verbose feedback.\u001b[0m\u001b[1;33m\u001b[0m\u001b[1;33m\u001b[0m\u001b[1;33m\u001b[0m\u001b[0m\n\u001b[1;32m-> 4300\u001b[1;33m                     raise ValueError(\n\u001b[0m\u001b[0;32m   4301\u001b[0m                         \u001b[1;34mf\"'c' argument must be a color, a sequence of colors, \"\u001b[0m\u001b[1;33m\u001b[0m\u001b[1;33m\u001b[0m\u001b[0m\n\u001b[0;32m   4302\u001b[0m                         f\"or a sequence of numbers, not {c}\") from err\n",
      "\u001b[1;31mValueError\u001b[0m: 'c' argument must be a color, a sequence of colors, or a sequence of numbers, not 0       brown\n1       brown\n2       brown\n3       brown\n4       brown\n        ...  \n1172     navy\n1173     navy\n1174     navy\n1175     navy\n1176     navy\nName: target, Length: 1177, dtype: object"
     ]
    },
    {
     "data": {
      "image/png": "[encoded data removed]",
      "text/plain": [
       "<Figure size 432x288 with 1 Axes>"
      ]
     },
     "metadata": {
      "needs_background": "light"
     },
     "output_type": "display_data"
    }
   ],
   "source": [
    "colors = {'indie':'red','rock':'green','pop':'blues','hiphop':'purple',\n",
    "          'country':'yellow','randb':'orange','latin':'pink','dance':'cyan',\n",
    "          'folk':'teal','jazz':'brown','classical':'salmon','soul':'navy',\n",
    "          'punk':'slategrey','metal':'darkgoldenrod','reggae':'darkkhaki'}\n",
    "\n",
    "'''legend_elements = [Line2D([0], [0], marker='o', color='w', label='Jazz',\n",
    "                          markerfacecolor='r', markersize=15),\n",
    "                  Line2D([0], [0], marker='o', color='w', label='Rock',\n",
    "                          markerfacecolor='g', markersize=15),\n",
    "                  Line2D([0], [0], marker='o', color='w', label='Hip-hop',\n",
    "                          markerfacecolor='b', markersize=15)]'''\n",
    "\n",
    "\n",
    "fig, ax = plt.subplots()\n",
    "\n",
    "ax.set_title('Comparing Features by Genre [Danceability vs. Energy]')\n",
    "ax.set_xlabel('Danceability')\n",
    "ax.set_ylabel('Energy')\n",
    "\n",
    "# How danceable the song is vs the energy/intensity of the song\n",
    "ax.scatter(data['danceability'], data['energy'], c=data['target'].map(colors))\n",
    "\n",
    "plt.legend(handles=legend_elements, loc='upper left')\n",
    "\n",
    "plt.show()"
   ]
  },
  {
   "cell_type": "code",
   "execution_count": null,
   "metadata": {},
   "outputs": [],
   "source": [
    "fig, ax = plt.subplots()\n",
    "\n",
    "ax.set_title('Comparing Features by Genre [Valence vs. Acousticness]')\n",
    "ax.set_xlabel('Valence')\n",
    "ax.set_ylabel('Acousticness')\n",
    "\n",
    "# Audience in recording vs use of acoustic instruments\n",
    "ax.scatter(data['valence'], data['acousticness'], c=data['target'].map(colors))\n",
    "\n",
    "plt.legend(handles=legend_elements, loc='upper right')\n",
    "\n",
    "plt.show()"
   ]
  },
  {
   "cell_type": "code",
   "execution_count": null,
   "metadata": {},
   "outputs": [],
   "source": [
    "fig, ax = plt.subplots()\n",
    "\n",
    "ax.set_title('Comparing Features by Genre [Energy vs. Loudness]')\n",
    "ax.set_xlabel('Energy')\n",
    "ax.set_ylabel('Loudness')\n",
    "\n",
    "# Happiness/valence vs tempo\n",
    "ax.scatter(data['energy'], data['loudness'], c=data['target'].map(colors))\n",
    "\n",
    "plt.legend(handles=legend_elements, loc='lower right')\n",
    "\n",
    "plt.show()"
   ]
  },
  {
   "cell_type": "code",
   "execution_count": null,
   "metadata": {},
   "outputs": [],
   "source": [
    "fig, ax = plt.subplots()\n",
    "\n",
    "ax.set_title('Comparing Features by Genre [Speechiness vs. Instrumentalness]')\n",
    "ax.set_xlabel('Speechiness')\n",
    "ax.set_ylabel('Instrumentalness')\n",
    "\n",
    "# Use of words vs use of instruments\n",
    "ax.scatter(data['speechiness'], data['instrumentalness'], c=data['target'].map(colors))\n",
    "\n",
    "plt.legend(handles=legend_elements, loc='upper right')\n",
    "\n",
    "plt.show()"
   ]
  },
  {
   "cell_type": "code",
   "execution_count": null,
   "metadata": {},
   "outputs": [],
   "source": []
  }
 ],
 "metadata": {
  "kernelspec": {
   "display_name": "Python 3",
   "language": "python",
   "name": "python3"
  },
  "language_info": {
   "codemirror_mode": {
    "name": "ipython",
    "version": 3
   },
   "file_extension": ".py",
   "mimetype": "text/x-python",
   "name": "python",
   "nbconvert_exporter": "python",
   "pygments_lexer": "ipython3",
   "version": "3.8.5"
  }
 },
 "nbformat": 4,
 "nbformat_minor": 2
}
