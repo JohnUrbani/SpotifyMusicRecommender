{
 "cells": [
  {
   "cell_type": "markdown",
   "metadata": {},
   "source": [
    "# Assignment 4\n",
    "<br>*Last edit: 2/26/2021*"
   ]
  },
  {
   "cell_type": "code",
   "execution_count": 1,
   "metadata": {},
   "outputs": [],
   "source": [
    "# import modules\n",
    "import numpy as np\n",
    "import pandas as pd\n",
    "import matplotlib.pyplot as plt\n",
    "\n",
    "# sklearn utilities\n",
    "from sklearn import datasets\n",
    "from sklearn import preprocessing\n",
    "from sklearn.model_selection import train_test_split\n",
    "from sklearn.metrics import confusion_matrix, classification_report, plot_confusion_matrix\n",
    "\n",
    "# sklearn models\n",
    "from sklearn.linear_model import LogisticRegression\n",
    "from sklearn.tree import DecisionTreeClassifier\n",
    "from sklearn.svm import SVC\n",
    "from sklearn.ensemble import RandomForestClassifier\n",
    "from sklearn.decomposition import PCA\n",
    "from sklearn.neural_network import MLPClassifier\n",
    "\n",
    "# Neural Net\n",
    "import tensorflow as tf\n",
    "from tensorflow import keras\n",
    "from tensorflow.keras.models import Sequential \n",
    "from tensorflow.keras import layers\n",
    "from tensorflow.keras import optimizers\n",
    "\n",
    "# other things\n",
    "import os\n",
    "import numpy as np\n",
    "import pandas as pd\n",
    "import matplotlib.pyplot as plt\n",
    "\n",
    "from sklearn.linear_model import LinearRegression\n",
    "from sklearn.metrics import mean_squared_error\n",
    "\n",
    "%matplotlib inline"
   ]
  },
  {
   "cell_type": "markdown",
   "metadata": {},
   "source": [
    "## Prepare the data"
   ]
  },
  {
   "cell_type": "code",
   "execution_count": 2,
   "metadata": {},
   "outputs": [
    {
     "data": {
      "text/html": [
       "<div>\n",
       "<style scoped>\n",
       "    .dataframe tbody tr th:only-of-type {\n",
       "        vertical-align: middle;\n",
       "    }\n",
       "\n",
       "    .dataframe tbody tr th {\n",
       "        vertical-align: top;\n",
       "    }\n",
       "\n",
       "    .dataframe thead th {\n",
       "        text-align: right;\n",
       "    }\n",
       "</style>\n",
       "<table border=\"1\" class=\"dataframe\">\n",
       "  <thead>\n",
       "    <tr style=\"text-align: right;\">\n",
       "      <th></th>\n",
       "      <th>danceability</th>\n",
       "      <th>energy</th>\n",
       "      <th>key</th>\n",
       "      <th>loudness</th>\n",
       "      <th>mode</th>\n",
       "      <th>speechiness</th>\n",
       "      <th>acousticness</th>\n",
       "      <th>instrumentalness</th>\n",
       "      <th>liveness</th>\n",
       "      <th>valence</th>\n",
       "      <th>tempo</th>\n",
       "      <th>duration_ms</th>\n",
       "    </tr>\n",
       "  </thead>\n",
       "  <tbody>\n",
       "    <tr>\n",
       "      <th>0</th>\n",
       "      <td>0.710</td>\n",
       "      <td>0.598</td>\n",
       "      <td>5</td>\n",
       "      <td>-7.598</td>\n",
       "      <td>0</td>\n",
       "      <td>0.0319</td>\n",
       "      <td>0.5080</td>\n",
       "      <td>0.000000</td>\n",
       "      <td>0.0971</td>\n",
       "      <td>0.5010</td>\n",
       "      <td>119.981</td>\n",
       "      <td>256320</td>\n",
       "    </tr>\n",
       "    <tr>\n",
       "      <th>1</th>\n",
       "      <td>0.717</td>\n",
       "      <td>0.347</td>\n",
       "      <td>11</td>\n",
       "      <td>-10.265</td>\n",
       "      <td>0</td>\n",
       "      <td>0.0636</td>\n",
       "      <td>0.0511</td>\n",
       "      <td>0.000002</td>\n",
       "      <td>0.0870</td>\n",
       "      <td>0.0589</td>\n",
       "      <td>84.987</td>\n",
       "      <td>235477</td>\n",
       "    </tr>\n",
       "    <tr>\n",
       "      <th>2</th>\n",
       "      <td>0.866</td>\n",
       "      <td>0.530</td>\n",
       "      <td>0</td>\n",
       "      <td>-6.347</td>\n",
       "      <td>0</td>\n",
       "      <td>0.0495</td>\n",
       "      <td>0.5170</td>\n",
       "      <td>0.001590</td>\n",
       "      <td>0.0946</td>\n",
       "      <td>0.2030</td>\n",
       "      <td>104.952</td>\n",
       "      <td>197973</td>\n",
       "    </tr>\n",
       "    <tr>\n",
       "      <th>3</th>\n",
       "      <td>0.397</td>\n",
       "      <td>0.172</td>\n",
       "      <td>6</td>\n",
       "      <td>-15.698</td>\n",
       "      <td>0</td>\n",
       "      <td>0.0445</td>\n",
       "      <td>0.8410</td>\n",
       "      <td>0.000068</td>\n",
       "      <td>0.1080</td>\n",
       "      <td>0.1230</td>\n",
       "      <td>101.275</td>\n",
       "      <td>265120</td>\n",
       "    </tr>\n",
       "    <tr>\n",
       "      <th>4</th>\n",
       "      <td>0.492</td>\n",
       "      <td>0.260</td>\n",
       "      <td>9</td>\n",
       "      <td>-17.341</td>\n",
       "      <td>0</td>\n",
       "      <td>0.0921</td>\n",
       "      <td>0.6460</td>\n",
       "      <td>0.001780</td>\n",
       "      <td>0.0705</td>\n",
       "      <td>0.3120</td>\n",
       "      <td>111.519</td>\n",
       "      <td>347227</td>\n",
       "    </tr>\n",
       "  </tbody>\n",
       "</table>\n",
       "</div>"
      ],
      "text/plain": [
       "   danceability  energy  key  loudness  mode  speechiness  acousticness  \\\n",
       "0         0.710   0.598    5    -7.598     0       0.0319        0.5080   \n",
       "1         0.717   0.347   11   -10.265     0       0.0636        0.0511   \n",
       "2         0.866   0.530    0    -6.347     0       0.0495        0.5170   \n",
       "3         0.397   0.172    6   -15.698     0       0.0445        0.8410   \n",
       "4         0.492   0.260    9   -17.341     0       0.0921        0.6460   \n",
       "\n",
       "   instrumentalness  liveness  valence    tempo  duration_ms  \n",
       "0          0.000000    0.0971   0.5010  119.981       256320  \n",
       "1          0.000002    0.0870   0.0589   84.987       235477  \n",
       "2          0.001590    0.0946   0.2030  104.952       197973  \n",
       "3          0.000068    0.1080   0.1230  101.275       265120  \n",
       "4          0.001780    0.0705   0.3120  111.519       347227  "
      ]
     },
     "execution_count": 2,
     "metadata": {},
     "output_type": "execute_result"
    }
   ],
   "source": [
    "# \n",
    "path = os.getcwd() + '\\\\personal_playlists_categorized.csv'\n",
    "data = pd.read_csv(path, header=0, names=['name', 'artists', 'danceability', 'energy', 'key', 'loudness', 'mode', 'speechiness', 'acousticness', 'instrumentalness', 'liveness', 'valence', 'tempo', 'type', 'audio_features', 'id' , 'uri', 'track_href', 'analysis_url', 'duration_ms', 'time_signature', 'target'], encoding = \"ISO-8859-1\")\n",
    "target = data['target']\n",
    "# Remove features that don't contribute to the classification of the tracks\n",
    "del data['target']\n",
    "del data['name']\n",
    "del data['artists']\n",
    "del data['type']\n",
    "del data['audio_features']\n",
    "del data['id']\n",
    "del data['uri']\n",
    "del data['track_href']\n",
    "del data['analysis_url']\n",
    "\n",
    "del data['time_signature']\n",
    "\n",
    "'''target=target.replace(to_replace=\"jazz\",value=\"0\")\n",
    "target=target.replace(to_replace=\"blues\",value=\"1\")\n",
    "target=target.replace(to_replace=\"soul\",value=\"2\")'''\n",
    "\n",
    "'''target=target.replace(to_replace=\"indie\",value=\"0\")\n",
    "target=target.replace(to_replace=\"rock\",value=\"1\")\n",
    "target=target.replace(to_replace=\"pop\",value=\"2\")\n",
    "target=target.replace(to_replace=\"hiphop\",value=\"3\")\n",
    "target=target.replace(to_replace=\"country\",value=\"4\")\n",
    "target=target.replace(to_replace=\"randb\",value=\"5\")\n",
    "target=target.replace(to_replace=\"latin\",value=\"6\")\n",
    "target=target.replace(to_replace=\"dance\",value=\"7\")\n",
    "target=target.replace(to_replace=\"folk\",value=\"8\")\n",
    "target=target.replace(to_replace=\"jazz\",value=\"9\")\n",
    "target=target.replace(to_replace=\"classical\",value=\"10\")\n",
    "target=target.replace(to_replace=\"soul\",value=\"11\")\n",
    "target=target.replace(to_replace=\"punk\",value=\"12\")\n",
    "target=target.replace(to_replace=\"metal\",value=\"13\")\n",
    "target=target.replace(to_replace=\"reggae\",value=\"14\")'''\n",
    "\n",
    "data.head()"
   ]
  },
  {
   "cell_type": "code",
   "execution_count": 3,
   "metadata": {},
   "outputs": [
    {
     "data": {
      "text/plain": [
       "((1548, 12), (517, 12), (1548,), (517,))"
      ]
     },
     "execution_count": 3,
     "metadata": {},
     "output_type": "execute_result"
    }
   ],
   "source": [
    "# Split data into training and testing sets\n",
    "x_train, x_test, y_train, y_test = train_test_split(data, target, test_size=0.25, random_state=0)\n",
    "x_train.shape, x_test.shape, y_train.shape, y_test.shape"
   ]
  },
  {
   "cell_type": "code",
   "execution_count": 4,
   "metadata": {},
   "outputs": [],
   "source": [
    "# Test many models\n",
    "from matplotlib.colors import ListedColormap\n",
    "from sklearn.model_selection import train_test_split\n",
    "from sklearn.preprocessing import StandardScaler\n",
    "from sklearn.datasets import make_moons, make_circles, make_classification\n",
    "from sklearn.neural_network import MLPClassifier\n",
    "from sklearn.neighbors import KNeighborsClassifier\n",
    "from sklearn.svm import SVC\n",
    "from sklearn.gaussian_process import GaussianProcessClassifier\n",
    "from sklearn.gaussian_process.kernels import RBF\n",
    "from sklearn.tree import DecisionTreeClassifier\n",
    "from sklearn.ensemble import RandomForestClassifier, AdaBoostClassifier\n",
    "from sklearn.naive_bayes import GaussianNB\n",
    "from sklearn.discriminant_analysis import QuadraticDiscriminantAnalysis"
   ]
  },
  {
   "cell_type": "code",
   "execution_count": 5,
   "metadata": {},
   "outputs": [],
   "source": [
    "classifiers = [\n",
    "    KNeighborsClassifier(3),\n",
    "    SVC(gamma=2, C=1),\n",
    "    #GaussianProcessClassifier(1.0 * RBF(1.0)),\n",
    "    DecisionTreeClassifier(max_depth=5),\n",
    "    RandomForestClassifier(max_depth=5, n_estimators=10, max_features=1),\n",
    "    MLPClassifier(alpha=1, max_iter=1000),\n",
    "    AdaBoostClassifier(),\n",
    "    GaussianNB(),\n",
    "    QuadraticDiscriminantAnalysis()]"
   ]
  },
  {
   "cell_type": "code",
   "execution_count": 6,
   "metadata": {},
   "outputs": [
    {
     "data": {
      "text/html": [
       "<div>\n",
       "<style scoped>\n",
       "    .dataframe tbody tr th:only-of-type {\n",
       "        vertical-align: middle;\n",
       "    }\n",
       "\n",
       "    .dataframe tbody tr th {\n",
       "        vertical-align: top;\n",
       "    }\n",
       "\n",
       "    .dataframe thead th {\n",
       "        text-align: right;\n",
       "    }\n",
       "</style>\n",
       "<table border=\"1\" class=\"dataframe\">\n",
       "  <thead>\n",
       "    <tr style=\"text-align: right;\">\n",
       "      <th></th>\n",
       "      <th>0</th>\n",
       "      <th>1</th>\n",
       "      <th>2</th>\n",
       "      <th>3</th>\n",
       "      <th>4</th>\n",
       "    </tr>\n",
       "  </thead>\n",
       "  <tbody>\n",
       "    <tr>\n",
       "      <th>0</th>\n",
       "      <td>22</td>\n",
       "      <td>15</td>\n",
       "      <td>15</td>\n",
       "      <td>19</td>\n",
       "      <td>2</td>\n",
       "    </tr>\n",
       "    <tr>\n",
       "      <th>1</th>\n",
       "      <td>22</td>\n",
       "      <td>19</td>\n",
       "      <td>17</td>\n",
       "      <td>16</td>\n",
       "      <td>4</td>\n",
       "    </tr>\n",
       "    <tr>\n",
       "      <th>2</th>\n",
       "      <td>43</td>\n",
       "      <td>27</td>\n",
       "      <td>61</td>\n",
       "      <td>30</td>\n",
       "      <td>5</td>\n",
       "    </tr>\n",
       "    <tr>\n",
       "      <th>3</th>\n",
       "      <td>33</td>\n",
       "      <td>27</td>\n",
       "      <td>36</td>\n",
       "      <td>37</td>\n",
       "      <td>2</td>\n",
       "    </tr>\n",
       "    <tr>\n",
       "      <th>4</th>\n",
       "      <td>14</td>\n",
       "      <td>12</td>\n",
       "      <td>20</td>\n",
       "      <td>17</td>\n",
       "      <td>2</td>\n",
       "    </tr>\n",
       "  </tbody>\n",
       "</table>\n",
       "</div>"
      ],
      "text/plain": [
       "    0   1   2   3  4\n",
       "0  22  15  15  19  2\n",
       "1  22  19  17  16  4\n",
       "2  43  27  61  30  5\n",
       "3  33  27  36  37  2\n",
       "4  14  12  20  17  2"
      ]
     },
     "metadata": {},
     "output_type": "display_data"
    },
    {
     "name": "stdout",
     "output_type": "stream",
     "text": [
      "               precision    recall  f1-score   support\n",
      "\n",
      "hip-hop-chill       0.16      0.30      0.21        73\n",
      "       mellow       0.19      0.24      0.21        78\n",
      "       moving       0.41      0.37      0.39       166\n",
      "        party       0.31      0.27      0.29       135\n",
      "upbeat-summer       0.13      0.03      0.05        65\n",
      "\n",
      "     accuracy                           0.27       517\n",
      "    macro avg       0.24      0.24      0.23       517\n",
      " weighted avg       0.28      0.27      0.27       517\n",
      "\n"
     ]
    },
    {
     "data": {
      "text/html": [
       "<div>\n",
       "<style scoped>\n",
       "    .dataframe tbody tr th:only-of-type {\n",
       "        vertical-align: middle;\n",
       "    }\n",
       "\n",
       "    .dataframe tbody tr th {\n",
       "        vertical-align: top;\n",
       "    }\n",
       "\n",
       "    .dataframe thead th {\n",
       "        text-align: right;\n",
       "    }\n",
       "</style>\n",
       "<table border=\"1\" class=\"dataframe\">\n",
       "  <thead>\n",
       "    <tr style=\"text-align: right;\">\n",
       "      <th></th>\n",
       "      <th>0</th>\n",
       "      <th>1</th>\n",
       "      <th>2</th>\n",
       "      <th>3</th>\n",
       "      <th>4</th>\n",
       "    </tr>\n",
       "  </thead>\n",
       "  <tbody>\n",
       "    <tr>\n",
       "      <th>0</th>\n",
       "      <td>1</td>\n",
       "      <td>0</td>\n",
       "      <td>72</td>\n",
       "      <td>0</td>\n",
       "      <td>0</td>\n",
       "    </tr>\n",
       "    <tr>\n",
       "      <th>1</th>\n",
       "      <td>0</td>\n",
       "      <td>0</td>\n",
       "      <td>73</td>\n",
       "      <td>0</td>\n",
       "      <td>5</td>\n",
       "    </tr>\n",
       "    <tr>\n",
       "      <th>2</th>\n",
       "      <td>0</td>\n",
       "      <td>1</td>\n",
       "      <td>165</td>\n",
       "      <td>0</td>\n",
       "      <td>0</td>\n",
       "    </tr>\n",
       "    <tr>\n",
       "      <th>3</th>\n",
       "      <td>0</td>\n",
       "      <td>0</td>\n",
       "      <td>133</td>\n",
       "      <td>2</td>\n",
       "      <td>0</td>\n",
       "    </tr>\n",
       "    <tr>\n",
       "      <th>4</th>\n",
       "      <td>0</td>\n",
       "      <td>1</td>\n",
       "      <td>64</td>\n",
       "      <td>0</td>\n",
       "      <td>0</td>\n",
       "    </tr>\n",
       "  </tbody>\n",
       "</table>\n",
       "</div>"
      ],
      "text/plain": [
       "   0  1    2  3  4\n",
       "0  1  0   72  0  0\n",
       "1  0  0   73  0  5\n",
       "2  0  1  165  0  0\n",
       "3  0  0  133  2  0\n",
       "4  0  1   64  0  0"
      ]
     },
     "metadata": {},
     "output_type": "display_data"
    },
    {
     "name": "stdout",
     "output_type": "stream",
     "text": [
      "               precision    recall  f1-score   support\n",
      "\n",
      "hip-hop-chill       1.00      0.01      0.03        73\n",
      "       mellow       0.00      0.00      0.00        78\n",
      "       moving       0.33      0.99      0.49       166\n",
      "        party       1.00      0.01      0.03       135\n",
      "upbeat-summer       0.00      0.00      0.00        65\n",
      "\n",
      "     accuracy                           0.32       517\n",
      "    macro avg       0.47      0.20      0.11       517\n",
      " weighted avg       0.51      0.32      0.17       517\n",
      "\n"
     ]
    },
    {
     "data": {
      "text/html": [
       "<div>\n",
       "<style scoped>\n",
       "    .dataframe tbody tr th:only-of-type {\n",
       "        vertical-align: middle;\n",
       "    }\n",
       "\n",
       "    .dataframe tbody tr th {\n",
       "        vertical-align: top;\n",
       "    }\n",
       "\n",
       "    .dataframe thead th {\n",
       "        text-align: right;\n",
       "    }\n",
       "</style>\n",
       "<table border=\"1\" class=\"dataframe\">\n",
       "  <thead>\n",
       "    <tr style=\"text-align: right;\">\n",
       "      <th></th>\n",
       "      <th>0</th>\n",
       "      <th>1</th>\n",
       "      <th>2</th>\n",
       "      <th>3</th>\n",
       "      <th>4</th>\n",
       "    </tr>\n",
       "  </thead>\n",
       "  <tbody>\n",
       "    <tr>\n",
       "      <th>0</th>\n",
       "      <td>41</td>\n",
       "      <td>8</td>\n",
       "      <td>2</td>\n",
       "      <td>21</td>\n",
       "      <td>1</td>\n",
       "    </tr>\n",
       "    <tr>\n",
       "      <th>1</th>\n",
       "      <td>9</td>\n",
       "      <td>44</td>\n",
       "      <td>8</td>\n",
       "      <td>16</td>\n",
       "      <td>1</td>\n",
       "    </tr>\n",
       "    <tr>\n",
       "      <th>2</th>\n",
       "      <td>0</td>\n",
       "      <td>15</td>\n",
       "      <td>120</td>\n",
       "      <td>26</td>\n",
       "      <td>5</td>\n",
       "    </tr>\n",
       "    <tr>\n",
       "      <th>3</th>\n",
       "      <td>15</td>\n",
       "      <td>0</td>\n",
       "      <td>17</td>\n",
       "      <td>102</td>\n",
       "      <td>1</td>\n",
       "    </tr>\n",
       "    <tr>\n",
       "      <th>4</th>\n",
       "      <td>5</td>\n",
       "      <td>17</td>\n",
       "      <td>16</td>\n",
       "      <td>24</td>\n",
       "      <td>3</td>\n",
       "    </tr>\n",
       "  </tbody>\n",
       "</table>\n",
       "</div>"
      ],
      "text/plain": [
       "    0   1    2    3  4\n",
       "0  41   8    2   21  1\n",
       "1   9  44    8   16  1\n",
       "2   0  15  120   26  5\n",
       "3  15   0   17  102  1\n",
       "4   5  17   16   24  3"
      ]
     },
     "metadata": {},
     "output_type": "display_data"
    },
    {
     "name": "stdout",
     "output_type": "stream",
     "text": [
      "               precision    recall  f1-score   support\n",
      "\n",
      "hip-hop-chill       0.59      0.56      0.57        73\n",
      "       mellow       0.52      0.56      0.54        78\n",
      "       moving       0.74      0.72      0.73       166\n",
      "        party       0.54      0.76      0.63       135\n",
      "upbeat-summer       0.27      0.05      0.08        65\n",
      "\n",
      "     accuracy                           0.60       517\n",
      "    macro avg       0.53      0.53      0.51       517\n",
      " weighted avg       0.57      0.60      0.57       517\n",
      "\n"
     ]
    },
    {
     "data": {
      "text/html": [
       "<div>\n",
       "<style scoped>\n",
       "    .dataframe tbody tr th:only-of-type {\n",
       "        vertical-align: middle;\n",
       "    }\n",
       "\n",
       "    .dataframe tbody tr th {\n",
       "        vertical-align: top;\n",
       "    }\n",
       "\n",
       "    .dataframe thead th {\n",
       "        text-align: right;\n",
       "    }\n",
       "</style>\n",
       "<table border=\"1\" class=\"dataframe\">\n",
       "  <thead>\n",
       "    <tr style=\"text-align: right;\">\n",
       "      <th></th>\n",
       "      <th>0</th>\n",
       "      <th>1</th>\n",
       "      <th>2</th>\n",
       "      <th>3</th>\n",
       "      <th>4</th>\n",
       "    </tr>\n",
       "  </thead>\n",
       "  <tbody>\n",
       "    <tr>\n",
       "      <th>0</th>\n",
       "      <td>34</td>\n",
       "      <td>0</td>\n",
       "      <td>9</td>\n",
       "      <td>30</td>\n",
       "      <td>0</td>\n",
       "    </tr>\n",
       "    <tr>\n",
       "      <th>1</th>\n",
       "      <td>9</td>\n",
       "      <td>17</td>\n",
       "      <td>29</td>\n",
       "      <td>21</td>\n",
       "      <td>2</td>\n",
       "    </tr>\n",
       "    <tr>\n",
       "      <th>2</th>\n",
       "      <td>1</td>\n",
       "      <td>1</td>\n",
       "      <td>137</td>\n",
       "      <td>26</td>\n",
       "      <td>1</td>\n",
       "    </tr>\n",
       "    <tr>\n",
       "      <th>3</th>\n",
       "      <td>5</td>\n",
       "      <td>0</td>\n",
       "      <td>21</td>\n",
       "      <td>109</td>\n",
       "      <td>0</td>\n",
       "    </tr>\n",
       "    <tr>\n",
       "      <th>4</th>\n",
       "      <td>9</td>\n",
       "      <td>4</td>\n",
       "      <td>23</td>\n",
       "      <td>25</td>\n",
       "      <td>4</td>\n",
       "    </tr>\n",
       "  </tbody>\n",
       "</table>\n",
       "</div>"
      ],
      "text/plain": [
       "    0   1    2    3  4\n",
       "0  34   0    9   30  0\n",
       "1   9  17   29   21  2\n",
       "2   1   1  137   26  1\n",
       "3   5   0   21  109  0\n",
       "4   9   4   23   25  4"
      ]
     },
     "metadata": {},
     "output_type": "display_data"
    },
    {
     "name": "stdout",
     "output_type": "stream",
     "text": [
      "               precision    recall  f1-score   support\n",
      "\n",
      "hip-hop-chill       0.59      0.47      0.52        73\n",
      "       mellow       0.77      0.22      0.34        78\n",
      "       moving       0.63      0.83      0.71       166\n",
      "        party       0.52      0.81      0.63       135\n",
      "upbeat-summer       0.57      0.06      0.11        65\n",
      "\n",
      "     accuracy                           0.58       517\n",
      "    macro avg       0.61      0.48      0.46       517\n",
      " weighted avg       0.61      0.58      0.53       517\n",
      "\n"
     ]
    },
    {
     "data": {
      "text/html": [
       "<div>\n",
       "<style scoped>\n",
       "    .dataframe tbody tr th:only-of-type {\n",
       "        vertical-align: middle;\n",
       "    }\n",
       "\n",
       "    .dataframe tbody tr th {\n",
       "        vertical-align: top;\n",
       "    }\n",
       "\n",
       "    .dataframe thead th {\n",
       "        text-align: right;\n",
       "    }\n",
       "</style>\n",
       "<table border=\"1\" class=\"dataframe\">\n",
       "  <thead>\n",
       "    <tr style=\"text-align: right;\">\n",
       "      <th></th>\n",
       "      <th>0</th>\n",
       "      <th>1</th>\n",
       "      <th>2</th>\n",
       "      <th>3</th>\n",
       "      <th>4</th>\n",
       "    </tr>\n",
       "  </thead>\n",
       "  <tbody>\n",
       "    <tr>\n",
       "      <th>0</th>\n",
       "      <td>0</td>\n",
       "      <td>0</td>\n",
       "      <td>0</td>\n",
       "      <td>73</td>\n",
       "      <td>0</td>\n",
       "    </tr>\n",
       "    <tr>\n",
       "      <th>1</th>\n",
       "      <td>0</td>\n",
       "      <td>0</td>\n",
       "      <td>0</td>\n",
       "      <td>78</td>\n",
       "      <td>0</td>\n",
       "    </tr>\n",
       "    <tr>\n",
       "      <th>2</th>\n",
       "      <td>0</td>\n",
       "      <td>0</td>\n",
       "      <td>0</td>\n",
       "      <td>166</td>\n",
       "      <td>0</td>\n",
       "    </tr>\n",
       "    <tr>\n",
       "      <th>3</th>\n",
       "      <td>0</td>\n",
       "      <td>0</td>\n",
       "      <td>0</td>\n",
       "      <td>135</td>\n",
       "      <td>0</td>\n",
       "    </tr>\n",
       "    <tr>\n",
       "      <th>4</th>\n",
       "      <td>0</td>\n",
       "      <td>0</td>\n",
       "      <td>0</td>\n",
       "      <td>65</td>\n",
       "      <td>0</td>\n",
       "    </tr>\n",
       "  </tbody>\n",
       "</table>\n",
       "</div>"
      ],
      "text/plain": [
       "   0  1  2    3  4\n",
       "0  0  0  0   73  0\n",
       "1  0  0  0   78  0\n",
       "2  0  0  0  166  0\n",
       "3  0  0  0  135  0\n",
       "4  0  0  0   65  0"
      ]
     },
     "metadata": {},
     "output_type": "display_data"
    },
    {
     "name": "stdout",
     "output_type": "stream",
     "text": [
      "               precision    recall  f1-score   support\n",
      "\n",
      "hip-hop-chill       0.00      0.00      0.00        73\n",
      "       mellow       0.00      0.00      0.00        78\n",
      "       moving       0.00      0.00      0.00       166\n",
      "        party       0.26      1.00      0.41       135\n",
      "upbeat-summer       0.00      0.00      0.00        65\n",
      "\n",
      "     accuracy                           0.26       517\n",
      "    macro avg       0.05      0.20      0.08       517\n",
      " weighted avg       0.07      0.26      0.11       517\n",
      "\n"
     ]
    },
    {
     "name": "stderr",
     "output_type": "stream",
     "text": [
      "C:\\Users\\johna\\anaconda3\\lib\\site-packages\\sklearn\\metrics\\_classification.py:1221: UndefinedMetricWarning: Precision and F-score are ill-defined and being set to 0.0 in labels with no predicted samples. Use `zero_division` parameter to control this behavior.\n",
      "  _warn_prf(average, modifier, msg_start, len(result))\n"
     ]
    },
    {
     "data": {
      "text/html": [
       "<div>\n",
       "<style scoped>\n",
       "    .dataframe tbody tr th:only-of-type {\n",
       "        vertical-align: middle;\n",
       "    }\n",
       "\n",
       "    .dataframe tbody tr th {\n",
       "        vertical-align: top;\n",
       "    }\n",
       "\n",
       "    .dataframe thead th {\n",
       "        text-align: right;\n",
       "    }\n",
       "</style>\n",
       "<table border=\"1\" class=\"dataframe\">\n",
       "  <thead>\n",
       "    <tr style=\"text-align: right;\">\n",
       "      <th></th>\n",
       "      <th>0</th>\n",
       "      <th>1</th>\n",
       "      <th>2</th>\n",
       "      <th>3</th>\n",
       "      <th>4</th>\n",
       "    </tr>\n",
       "  </thead>\n",
       "  <tbody>\n",
       "    <tr>\n",
       "      <th>0</th>\n",
       "      <td>55</td>\n",
       "      <td>8</td>\n",
       "      <td>1</td>\n",
       "      <td>8</td>\n",
       "      <td>1</td>\n",
       "    </tr>\n",
       "    <tr>\n",
       "      <th>1</th>\n",
       "      <td>7</td>\n",
       "      <td>43</td>\n",
       "      <td>9</td>\n",
       "      <td>4</td>\n",
       "      <td>15</td>\n",
       "    </tr>\n",
       "    <tr>\n",
       "      <th>2</th>\n",
       "      <td>1</td>\n",
       "      <td>12</td>\n",
       "      <td>119</td>\n",
       "      <td>16</td>\n",
       "      <td>18</td>\n",
       "    </tr>\n",
       "    <tr>\n",
       "      <th>3</th>\n",
       "      <td>12</td>\n",
       "      <td>5</td>\n",
       "      <td>24</td>\n",
       "      <td>91</td>\n",
       "      <td>3</td>\n",
       "    </tr>\n",
       "    <tr>\n",
       "      <th>4</th>\n",
       "      <td>8</td>\n",
       "      <td>18</td>\n",
       "      <td>15</td>\n",
       "      <td>14</td>\n",
       "      <td>10</td>\n",
       "    </tr>\n",
       "  </tbody>\n",
       "</table>\n",
       "</div>"
      ],
      "text/plain": [
       "    0   1    2   3   4\n",
       "0  55   8    1   8   1\n",
       "1   7  43    9   4  15\n",
       "2   1  12  119  16  18\n",
       "3  12   5   24  91   3\n",
       "4   8  18   15  14  10"
      ]
     },
     "metadata": {},
     "output_type": "display_data"
    },
    {
     "name": "stdout",
     "output_type": "stream",
     "text": [
      "               precision    recall  f1-score   support\n",
      "\n",
      "hip-hop-chill       0.66      0.75      0.71        73\n",
      "       mellow       0.50      0.55      0.52        78\n",
      "       moving       0.71      0.72      0.71       166\n",
      "        party       0.68      0.67      0.68       135\n",
      "upbeat-summer       0.21      0.15      0.18        65\n",
      "\n",
      "     accuracy                           0.62       517\n",
      "    macro avg       0.55      0.57      0.56       517\n",
      " weighted avg       0.60      0.62      0.61       517\n",
      "\n"
     ]
    },
    {
     "data": {
      "text/html": [
       "<div>\n",
       "<style scoped>\n",
       "    .dataframe tbody tr th:only-of-type {\n",
       "        vertical-align: middle;\n",
       "    }\n",
       "\n",
       "    .dataframe tbody tr th {\n",
       "        vertical-align: top;\n",
       "    }\n",
       "\n",
       "    .dataframe thead th {\n",
       "        text-align: right;\n",
       "    }\n",
       "</style>\n",
       "<table border=\"1\" class=\"dataframe\">\n",
       "  <thead>\n",
       "    <tr style=\"text-align: right;\">\n",
       "      <th></th>\n",
       "      <th>0</th>\n",
       "      <th>1</th>\n",
       "      <th>2</th>\n",
       "      <th>3</th>\n",
       "      <th>4</th>\n",
       "    </tr>\n",
       "  </thead>\n",
       "  <tbody>\n",
       "    <tr>\n",
       "      <th>0</th>\n",
       "      <td>1</td>\n",
       "      <td>9</td>\n",
       "      <td>8</td>\n",
       "      <td>55</td>\n",
       "      <td>0</td>\n",
       "    </tr>\n",
       "    <tr>\n",
       "      <th>1</th>\n",
       "      <td>4</td>\n",
       "      <td>10</td>\n",
       "      <td>11</td>\n",
       "      <td>53</td>\n",
       "      <td>0</td>\n",
       "    </tr>\n",
       "    <tr>\n",
       "      <th>2</th>\n",
       "      <td>2</td>\n",
       "      <td>4</td>\n",
       "      <td>88</td>\n",
       "      <td>72</td>\n",
       "      <td>0</td>\n",
       "    </tr>\n",
       "    <tr>\n",
       "      <th>3</th>\n",
       "      <td>0</td>\n",
       "      <td>0</td>\n",
       "      <td>21</td>\n",
       "      <td>114</td>\n",
       "      <td>0</td>\n",
       "    </tr>\n",
       "    <tr>\n",
       "      <th>4</th>\n",
       "      <td>3</td>\n",
       "      <td>2</td>\n",
       "      <td>10</td>\n",
       "      <td>50</td>\n",
       "      <td>0</td>\n",
       "    </tr>\n",
       "  </tbody>\n",
       "</table>\n",
       "</div>"
      ],
      "text/plain": [
       "   0   1   2    3  4\n",
       "0  1   9   8   55  0\n",
       "1  4  10  11   53  0\n",
       "2  2   4  88   72  0\n",
       "3  0   0  21  114  0\n",
       "4  3   2  10   50  0"
      ]
     },
     "metadata": {},
     "output_type": "display_data"
    },
    {
     "name": "stdout",
     "output_type": "stream",
     "text": [
      "               precision    recall  f1-score   support\n",
      "\n",
      "hip-hop-chill       0.10      0.01      0.02        73\n",
      "       mellow       0.40      0.13      0.19        78\n",
      "       moving       0.64      0.53      0.58       166\n",
      "        party       0.33      0.84      0.48       135\n",
      "upbeat-summer       0.00      0.00      0.00        65\n",
      "\n",
      "     accuracy                           0.41       517\n",
      "    macro avg       0.29      0.30      0.25       517\n",
      " weighted avg       0.37      0.41      0.34       517\n",
      "\n"
     ]
    },
    {
     "name": "stderr",
     "output_type": "stream",
     "text": [
      "C:\\Users\\johna\\anaconda3\\lib\\site-packages\\sklearn\\metrics\\_classification.py:1221: UndefinedMetricWarning: Precision and F-score are ill-defined and being set to 0.0 in labels with no predicted samples. Use `zero_division` parameter to control this behavior.\n",
      "  _warn_prf(average, modifier, msg_start, len(result))\n"
     ]
    },
    {
     "data": {
      "text/html": [
       "<div>\n",
       "<style scoped>\n",
       "    .dataframe tbody tr th:only-of-type {\n",
       "        vertical-align: middle;\n",
       "    }\n",
       "\n",
       "    .dataframe tbody tr th {\n",
       "        vertical-align: top;\n",
       "    }\n",
       "\n",
       "    .dataframe thead th {\n",
       "        text-align: right;\n",
       "    }\n",
       "</style>\n",
       "<table border=\"1\" class=\"dataframe\">\n",
       "  <thead>\n",
       "    <tr style=\"text-align: right;\">\n",
       "      <th></th>\n",
       "      <th>0</th>\n",
       "      <th>1</th>\n",
       "      <th>2</th>\n",
       "      <th>3</th>\n",
       "      <th>4</th>\n",
       "    </tr>\n",
       "  </thead>\n",
       "  <tbody>\n",
       "    <tr>\n",
       "      <th>0</th>\n",
       "      <td>46</td>\n",
       "      <td>15</td>\n",
       "      <td>0</td>\n",
       "      <td>11</td>\n",
       "      <td>1</td>\n",
       "    </tr>\n",
       "    <tr>\n",
       "      <th>1</th>\n",
       "      <td>7</td>\n",
       "      <td>49</td>\n",
       "      <td>6</td>\n",
       "      <td>9</td>\n",
       "      <td>7</td>\n",
       "    </tr>\n",
       "    <tr>\n",
       "      <th>2</th>\n",
       "      <td>0</td>\n",
       "      <td>17</td>\n",
       "      <td>114</td>\n",
       "      <td>21</td>\n",
       "      <td>14</td>\n",
       "    </tr>\n",
       "    <tr>\n",
       "      <th>3</th>\n",
       "      <td>10</td>\n",
       "      <td>3</td>\n",
       "      <td>14</td>\n",
       "      <td>105</td>\n",
       "      <td>3</td>\n",
       "    </tr>\n",
       "    <tr>\n",
       "      <th>4</th>\n",
       "      <td>6</td>\n",
       "      <td>15</td>\n",
       "      <td>15</td>\n",
       "      <td>18</td>\n",
       "      <td>11</td>\n",
       "    </tr>\n",
       "  </tbody>\n",
       "</table>\n",
       "</div>"
      ],
      "text/plain": [
       "    0   1    2    3   4\n",
       "0  46  15    0   11   1\n",
       "1   7  49    6    9   7\n",
       "2   0  17  114   21  14\n",
       "3  10   3   14  105   3\n",
       "4   6  15   15   18  11"
      ]
     },
     "metadata": {},
     "output_type": "display_data"
    },
    {
     "name": "stdout",
     "output_type": "stream",
     "text": [
      "               precision    recall  f1-score   support\n",
      "\n",
      "hip-hop-chill       0.67      0.63      0.65        73\n",
      "       mellow       0.49      0.63      0.55        78\n",
      "       moving       0.77      0.69      0.72       166\n",
      "        party       0.64      0.78      0.70       135\n",
      "upbeat-summer       0.31      0.17      0.22        65\n",
      "\n",
      "     accuracy                           0.63       517\n",
      "    macro avg       0.57      0.58      0.57       517\n",
      " weighted avg       0.62      0.63      0.62       517\n",
      "\n"
     ]
    }
   ],
   "source": [
    "for model in classifiers:\n",
    "    model.fit(x_train, y_train)\n",
    "    y_pred = model.predict(x_test)\n",
    "    conf_matrix = confusion_matrix(y_test, y_pred)\n",
    "    conf_df = pd.DataFrame(conf_matrix)\n",
    "    display(conf_df)\n",
    "    print(classification_report(y_test, y_pred))"
   ]
  },
  {
   "cell_type": "code",
   "execution_count": 7,
   "metadata": {},
   "outputs": [
    {
     "name": "stdout",
     "output_type": "stream",
     "text": [
      "               precision    recall  f1-score   support\n",
      "\n",
      "hip-hop-chill       0.65      0.75      0.70        73\n",
      "       mellow       0.53      0.50      0.52        78\n",
      "       moving       0.76      0.77      0.77       166\n",
      "        party       0.65      0.76      0.70       135\n",
      "upbeat-summer       0.31      0.17      0.22        65\n",
      "\n",
      "     accuracy                           0.65       517\n",
      "    macro avg       0.58      0.59      0.58       517\n",
      " weighted avg       0.63      0.65      0.63       517\n",
      "\n"
     ]
    },
    {
     "data": {
      "text/plain": [
       "<sklearn.metrics._plot.confusion_matrix.ConfusionMatrixDisplay at 0x2862db301f0>"
      ]
     },
     "execution_count": 7,
     "metadata": {},
     "output_type": "execute_result"
    },
    {
     "data": {
      "image/png": "[encoded data removed]",
      "text/plain": [
       "<Figure size 432x288 with 2 Axes>"
      ]
     },
     "metadata": {
      "needs_background": "light"
     },
     "output_type": "display_data"
    }
   ],
   "source": [
    "# Random Forest Classifier No Regularization\n",
    "model = RandomForestClassifier(n_estimators=100)\n",
    "model.fit(x_train, y_train)\n",
    "y_pred = model.predict(x_test)\n",
    "\n",
    "print(classification_report(y_test, y_pred))\n",
    "plot_confusion_matrix(model, x_test, y_test, xticks_rotation=45)"
   ]
  },
  {
   "cell_type": "code",
   "execution_count": 8,
   "metadata": {},
   "outputs": [
    {
     "name": "stdout",
     "output_type": "stream",
     "text": [
      "               precision    recall  f1-score   support\n",
      "\n",
      "hip-hop-chill       0.67      0.63      0.65        73\n",
      "       mellow       0.49      0.63      0.55        78\n",
      "       moving       0.77      0.69      0.72       166\n",
      "        party       0.64      0.78      0.70       135\n",
      "upbeat-summer       0.31      0.17      0.22        65\n",
      "\n",
      "     accuracy                           0.63       517\n",
      "    macro avg       0.57      0.58      0.57       517\n",
      " weighted avg       0.62      0.63      0.62       517\n",
      "\n"
     ]
    },
    {
     "data": {
      "text/plain": [
       "<sklearn.metrics._plot.confusion_matrix.ConfusionMatrixDisplay at 0x286387b7310>"
      ]
     },
     "execution_count": 8,
     "metadata": {},
     "output_type": "execute_result"
    },
    {
     "data": {
      "image/png": "[encoded data removed]",
      "text/plain": [
       "<Figure size 432x288 with 2 Axes>"
      ]
     },
     "metadata": {
      "needs_background": "light"
     },
     "output_type": "display_data"
    }
   ],
   "source": [
    "# Quad Discriminant No Regularization\n",
    "model = QuadraticDiscriminantAnalysis()\n",
    "model.fit(x_train, y_train)\n",
    "y_pred = model.predict(x_test)\n",
    "\n",
    "print(classification_report(y_test, y_pred))\n",
    "plot_confusion_matrix(model, x_test, y_test, xticks_rotation=45)"
   ]
  },
  {
   "cell_type": "code",
   "execution_count": 9,
   "metadata": {},
   "outputs": [
    {
     "name": "stdout",
     "output_type": "stream",
     "text": [
      "               precision    recall  f1-score   support\n",
      "\n",
      "hip-hop-chill       1.00      0.01      0.03        73\n",
      "       mellow       0.00      0.00      0.00        78\n",
      "       moving       0.33      0.99      0.49       166\n",
      "        party       1.00      0.01      0.03       135\n",
      "upbeat-summer       0.00      0.00      0.00        65\n",
      "\n",
      "     accuracy                           0.32       517\n",
      "    macro avg       0.47      0.20      0.11       517\n",
      " weighted avg       0.51      0.32      0.17       517\n",
      "\n"
     ]
    },
    {
     "data": {
      "text/plain": [
       "<sklearn.metrics._plot.confusion_matrix.ConfusionMatrixDisplay at 0x28639e46df0>"
      ]
     },
     "execution_count": 9,
     "metadata": {},
     "output_type": "execute_result"
    },
    {
     "data": {
      "image/png": "[encoded data removed]",
      "text/plain": [
       "<Figure size 432x288 with 2 Axes>"
      ]
     },
     "metadata": {
      "needs_background": "light"
     },
     "output_type": "display_data"
    }
   ],
   "source": [
    "# SVC No Regularization\n",
    "model = SVC(gamma=2, C=1)\n",
    "model.fit(x_train, y_train)\n",
    "y_pred = model.predict(x_test)\n",
    "\n",
    "print(classification_report(y_test, y_pred))\n",
    "plot_confusion_matrix(model, x_test, y_test, xticks_rotation=45)"
   ]
  },
  {
   "cell_type": "code",
   "execution_count": 10,
   "metadata": {},
   "outputs": [
    {
     "data": {
      "text/plain": [
       "'target=target.replace(to_replace=\"indie\",value=\"0\")\\ntarget=target.replace(to_replace=\"rock\",value=\"1\")\\ntarget=target.replace(to_replace=\"pop\",value=\"2\")\\ntarget=target.replace(to_replace=\"hiphop\",value=\"3\")\\ntarget=target.replace(to_replace=\"country\",value=\"4\")\\ntarget=target.replace(to_replace=\"randb\",value=\"5\")\\ntarget=target.replace(to_replace=\"latin\",value=\"6\")\\ntarget=target.replace(to_replace=\"dance\",value=\"7\")\\ntarget=target.replace(to_replace=\"folk\",value=\"8\")\\ntarget=target.replace(to_replace=\"jazz\",value=\"9\")\\ntarget=target.replace(to_replace=\"classical\",value=\"10\")\\ntarget=target.replace(to_replace=\"soul\",value=\"11\")\\ntarget=target.replace(to_replace=\"punk\",value=\"12\")\\ntarget=target.replace(to_replace=\"metal\",value=\"13\")\\ntarget=target.replace(to_replace=\"reggae\",value=\"14\")'"
      ]
     },
     "execution_count": 10,
     "metadata": {},
     "output_type": "execute_result"
    }
   ],
   "source": [
    "# MLP\n",
    "# Reload dataset\n",
    "path = os.getcwd() + '\\\\personal_playlists_categorized.csv'\n",
    "data = pd.read_csv(path, header=0, names=['name', 'artists', 'danceability', 'energy', 'key', 'loudness', 'mode', 'speechiness', 'acousticness', 'instrumentalness', 'liveness', 'valence', 'tempo', 'type', 'audio_features', 'id' , 'uri', 'track_href', 'analysis_url', 'duration_ms', 'time_signature', 'target'], encoding = \"ISO-8859-1\")\n",
    "target = data['target']\n",
    "# Remove features that don't contribute to the classification of the tracks\n",
    "del data['target']\n",
    "del data['name']\n",
    "del data['artists']\n",
    "del data['type']\n",
    "del data['audio_features']\n",
    "del data['id']\n",
    "del data['uri']\n",
    "del data['track_href']\n",
    "del data['analysis_url']\n",
    "\n",
    "del data['time_signature']\n",
    "\n",
    "target=target.replace(to_replace=\"mellow\",value=\"0\")\n",
    "target=target.replace(to_replace=\"hip-hop-chill\",value=\"1\")\n",
    "target=target.replace(to_replace=\"party\",value=\"2\")\n",
    "target=target.replace(to_replace=\"moving\",value=\"3\")\n",
    "target=target.replace(to_replace=\"upbeat-summer\",value=\"4\")\n",
    "# Convert labels to numbers\n",
    "'''target=target.replace(to_replace=\"indie\",value=\"0\")\n",
    "target=target.replace(to_replace=\"rock\",value=\"1\")\n",
    "target=target.replace(to_replace=\"pop\",value=\"2\")\n",
    "target=target.replace(to_replace=\"hiphop\",value=\"3\")\n",
    "target=target.replace(to_replace=\"country\",value=\"4\")\n",
    "target=target.replace(to_replace=\"randb\",value=\"5\")\n",
    "target=target.replace(to_replace=\"latin\",value=\"6\")\n",
    "target=target.replace(to_replace=\"dance\",value=\"7\")\n",
    "target=target.replace(to_replace=\"folk\",value=\"8\")\n",
    "target=target.replace(to_replace=\"jazz\",value=\"9\")\n",
    "target=target.replace(to_replace=\"classical\",value=\"10\")\n",
    "target=target.replace(to_replace=\"soul\",value=\"11\")\n",
    "target=target.replace(to_replace=\"punk\",value=\"12\")\n",
    "target=target.replace(to_replace=\"metal\",value=\"13\")\n",
    "target=target.replace(to_replace=\"reggae\",value=\"14\")'''"
   ]
  },
  {
   "cell_type": "code",
   "execution_count": 11,
   "metadata": {},
   "outputs": [
    {
     "name": "stdout",
     "output_type": "stream",
     "text": [
      "      danceability    energy       key  loudness  mode  speechiness  \\\n",
      "0         0.707036  0.604005  0.454545  0.749257   0.0     0.010948   \n",
      "1         0.714659  0.350448  1.000000  0.674454   0.0     0.049086   \n",
      "2         0.876933  0.535312  0.000000  0.784344   0.0     0.032122   \n",
      "3         0.366151  0.173664  0.545455  0.522073   0.0     0.026107   \n",
      "4         0.469614  0.262561  0.818182  0.475991   0.0     0.083373   \n",
      "...            ...       ...       ...       ...   ...          ...   \n",
      "2060      0.628621  0.535312  0.727273  0.752903   0.0     0.096487   \n",
      "2061      0.578523  0.845441  0.363636  0.766394   0.0     0.017685   \n",
      "2062      0.686343  0.469650  0.272727  0.736271   0.0     0.032964   \n",
      "2063      0.208234  0.199929  0.818182  0.718012   1.0     0.009865   \n",
      "2064      0.882379  0.708055  0.454545  0.805464   0.0     0.027671   \n",
      "\n",
      "      acousticness  instrumentalness  liveness   valence     tempo  \\\n",
      "0         0.510552          0.000000  0.079419  0.498114  0.440925   \n",
      "1         0.051355          0.000002  0.068948  0.034891  0.232980   \n",
      "2         0.519597          0.001614  0.076827  0.185876  0.351618   \n",
      "3         0.845226          0.000069  0.090721  0.102054  0.329768   \n",
      "4         0.649246          0.001807  0.051840  0.300084  0.390641   \n",
      "...            ...               ...       ...       ...       ...   \n",
      "2060      0.078189          0.340102  0.085537  0.547360  0.747951   \n",
      "2061      0.452260          0.022538  0.129082  0.675189  0.726220   \n",
      "2062      0.083315          0.000002  0.109383  0.278080  0.298541   \n",
      "2063      0.878392          0.000000  0.063245  0.045369  0.762397   \n",
      "2064      0.258290          0.000008  0.039813  0.723386  0.482485   \n",
      "\n",
      "      duration_ms  \n",
      "0        0.200811  \n",
      "1        0.180507  \n",
      "2        0.143974  \n",
      "3        0.209383  \n",
      "4        0.289364  \n",
      "...           ...  \n",
      "2060     0.190350  \n",
      "2061     0.113426  \n",
      "2062     0.125791  \n",
      "2063     0.166308  \n",
      "2064     0.144429  \n",
      "\n",
      "[2065 rows x 12 columns]\n"
     ]
    }
   ],
   "source": [
    "# Regularize data\n",
    "x = data.values\n",
    "min_max_scalar = preprocessing.MinMaxScaler()\n",
    "x_scaled = min_max_scalar.fit_transform(x)\n",
    "data = pd.DataFrame(x_scaled, columns=data.columns)\n",
    "print(data)"
   ]
  },
  {
   "cell_type": "code",
   "execution_count": 12,
   "metadata": {},
   "outputs": [
    {
     "name": "stdout",
     "output_type": "stream",
     "text": [
      "              precision    recall  f1-score   support\n",
      "\n",
      "           0       0.54      0.55      0.54        78\n",
      "           1       0.67      0.70      0.68        73\n",
      "           2       0.61      0.74      0.67       135\n",
      "           3       0.77      0.78      0.78       166\n",
      "           4       0.34      0.15      0.21        65\n",
      "\n",
      "    accuracy                           0.65       517\n",
      "   macro avg       0.59      0.59      0.58       517\n",
      "weighted avg       0.63      0.65      0.63       517\n",
      "\n"
     ]
    },
    {
     "data": {
      "text/plain": [
       "<sklearn.metrics._plot.confusion_matrix.ConfusionMatrixDisplay at 0x28638646640>"
      ]
     },
     "execution_count": 12,
     "metadata": {},
     "output_type": "execute_result"
    },
    {
     "data": {
      "image/png": "[encoded data removed]",
      "text/plain": [
       "<Figure size 432x288 with 2 Axes>"
      ]
     },
     "metadata": {
      "needs_background": "light"
     },
     "output_type": "display_data"
    }
   ],
   "source": [
    "# Random Forest Classifier Post-Regularization\n",
    "x_train, x_test, y_train, y_test = train_test_split(data, target, test_size=0.25, random_state=0)\n",
    "x_train.shape, x_test.shape, y_train.shape, y_test.shape\n",
    "\n",
    "model = RandomForestClassifier(n_estimators=100)\n",
    "model.fit(x_train, y_train)\n",
    "y_pred = model.predict(x_test)\n",
    "\n",
    "print(classification_report(y_test, y_pred))\n",
    "plot_confusion_matrix(model, x_test, y_test, xticks_rotation=45)"
   ]
  },
  {
   "cell_type": "code",
   "execution_count": 13,
   "metadata": {},
   "outputs": [
    {
     "name": "stdout",
     "output_type": "stream",
     "text": [
      "              precision    recall  f1-score   support\n",
      "\n",
      "           0       0.49      0.63      0.55        78\n",
      "           1       0.67      0.63      0.65        73\n",
      "           2       0.64      0.78      0.70       135\n",
      "           3       0.77      0.69      0.72       166\n",
      "           4       0.31      0.17      0.22        65\n",
      "\n",
      "    accuracy                           0.63       517\n",
      "   macro avg       0.57      0.58      0.57       517\n",
      "weighted avg       0.62      0.63      0.62       517\n",
      "\n"
     ]
    },
    {
     "data": {
      "text/plain": [
       "<sklearn.metrics._plot.confusion_matrix.ConfusionMatrixDisplay at 0x2862daf3c40>"
      ]
     },
     "execution_count": 13,
     "metadata": {},
     "output_type": "execute_result"
    },
    {
     "data": {
      "image/png": "[encoded data removed]",
      "text/plain": [
       "<Figure size 432x288 with 2 Axes>"
      ]
     },
     "metadata": {
      "needs_background": "light"
     },
     "output_type": "display_data"
    }
   ],
   "source": [
    "# Quad Discriminant Post-Regularization\n",
    "model = QuadraticDiscriminantAnalysis()\n",
    "model.fit(x_train, y_train)\n",
    "y_pred = model.predict(x_test)\n",
    "\n",
    "print(classification_report(y_test, y_pred))\n",
    "plot_confusion_matrix(model, x_test, y_test, xticks_rotation=45)"
   ]
  },
  {
   "cell_type": "code",
   "execution_count": 14,
   "metadata": {},
   "outputs": [
    {
     "name": "stdout",
     "output_type": "stream",
     "text": [
      "              precision    recall  f1-score   support\n",
      "\n",
      "           0       0.52      0.44      0.48        78\n",
      "           1       0.60      0.74      0.66        73\n",
      "           2       0.64      0.76      0.69       135\n",
      "           3       0.73      0.80      0.76       166\n",
      "           4       0.47      0.14      0.21        65\n",
      "\n",
      "    accuracy                           0.64       517\n",
      "   macro avg       0.59      0.57      0.56       517\n",
      "weighted avg       0.62      0.64      0.62       517\n",
      "\n"
     ]
    },
    {
     "data": {
      "text/plain": [
       "<sklearn.metrics._plot.confusion_matrix.ConfusionMatrixDisplay at 0x28639d07f70>"
      ]
     },
     "execution_count": 14,
     "metadata": {},
     "output_type": "execute_result"
    },
    {
     "data": {
      "image/png": "[encoded data removed]",
      "text/plain": [
       "<Figure size 432x288 with 2 Axes>"
      ]
     },
     "metadata": {
      "needs_background": "light"
     },
     "output_type": "display_data"
    }
   ],
   "source": [
    "# SVC Post-Regularization\n",
    "model = SVC(gamma=2, C=1)\n",
    "model.fit(x_train, y_train)\n",
    "y_pred = model.predict(x_test)\n",
    "\n",
    "print(classification_report(y_test, y_pred))\n",
    "plot_confusion_matrix(model, x_test, y_test, xticks_rotation=45)"
   ]
  },
  {
   "cell_type": "code",
   "execution_count": 35,
   "metadata": {},
   "outputs": [
    {
     "name": "stdout",
     "output_type": "stream",
     "text": [
      "              precision    recall  f1-score   support\n",
      "\n",
      "           0       0.58      0.54      0.56        78\n",
      "           1       0.65      0.75      0.70        73\n",
      "           2       0.63      0.77      0.69       135\n",
      "           3       0.76      0.80      0.78       166\n",
      "           4       0.37      0.11      0.17        65\n",
      "\n",
      "    accuracy                           0.66       517\n",
      "   macro avg       0.60      0.59      0.58       517\n",
      "weighted avg       0.63      0.66      0.63       517\n",
      "\n"
     ]
    },
    {
     "data": {
      "text/plain": [
       "<sklearn.metrics._plot.confusion_matrix.ConfusionMatrixDisplay at 0x288157fd640>"
      ]
     },
     "execution_count": 35,
     "metadata": {},
     "output_type": "execute_result"
    },
    {
     "data": {
      "image/png": "[encoded data removed]",
      "text/plain": [
       "<Figure size 432x288 with 2 Axes>"
      ]
     },
     "metadata": {
      "needs_background": "light"
     },
     "output_type": "display_data"
    }
   ],
   "source": [
    "# adaboost\n",
    "base_model = RandomForestClassifier(n_estimators=100)\n",
    "base_model.fit(x_train, y_train)\n",
    "\n",
    "model = AdaBoostClassifier(base_estimator=base_model, n_estimators=10, learning_rate=1)\n",
    "model.fit(x_train, y_train)\n",
    "y_pred = model.predict(x_test)\n",
    "\n",
    "print(classification_report(y_test, y_pred))\n",
    "plot_confusion_matrix(model, x_test, y_test, xticks_rotation=45)"
   ]
  },
  {
   "cell_type": "code",
   "execution_count": 16,
   "metadata": {},
   "outputs": [],
   "source": [
    "# Onehot after split\n",
    "x_train, x_test, y_train, y_test = train_test_split(data, target, test_size=0.25, random_state=0)\n",
    "x_train.shape, x_test.shape, y_train.shape, y_test.shape\n",
    "\n",
    "y_train_1hot = []\n",
    "for data in y_train:\n",
    "    hot = np.zeros(5)\n",
    "    hot[int(data)] = 1\n",
    "    y_train_1hot.append(hot)\n",
    "        \n",
    "y_test_1hot = []\n",
    "for data in y_test:\n",
    "    hot = np.zeros(5)\n",
    "    hot[int(data)] = 1\n",
    "    y_test_1hot.append(hot)\n",
    "    \n",
    "y_train_1hot = np.asarray(y_train_1hot)\n",
    "y_test_1hot = np.asarray(y_test_1hot)"
   ]
  },
  {
   "cell_type": "code",
   "execution_count": 17,
   "metadata": {},
   "outputs": [
    {
     "name": "stdout",
     "output_type": "stream",
     "text": [
      "(1548, 12)\n",
      "(1548, 5)\n"
     ]
    }
   ],
   "source": [
    "print(x_train.shape)\n",
    "print(y_train_1hot.shape)"
   ]
  },
  {
   "cell_type": "code",
   "execution_count": 18,
   "metadata": {},
   "outputs": [],
   "source": [
    "# 1 hidden layer, Adam\n",
    "model = Sequential()\n",
    "\n",
    "model.add(layers.Dense(256, activation='relu', input_shape=[12]))\n",
    "model.add(layers.Dense(5, activation='softmax'))\n",
    "\n",
    "model.compile(optimizers.Adam(learning_rate=0.001, beta_1=0.95),\n",
    "              loss=tf.keras.losses.CategoricalCrossentropy(from_logits=True),\n",
    "              metrics=['accuracy'])"
   ]
  },
  {
   "cell_type": "code",
   "execution_count": 19,
   "metadata": {
    "scrolled": true
   },
   "outputs": [
    {
     "name": "stdout",
     "output_type": "stream",
     "text": [
      "Epoch 1/10\n",
      "49/49 [==============================] - 2s 20ms/step - loss: 1.5092 - accuracy: 0.3744 - val_loss: 1.3843 - val_accuracy: 0.4720\n",
      "Epoch 2/10\n",
      "49/49 [==============================] - 0s 3ms/step - loss: 1.3316 - accuracy: 0.4953 - val_loss: 1.2635 - val_accuracy: 0.4855\n",
      "Epoch 3/10\n",
      "49/49 [==============================] - 0s 3ms/step - loss: 1.2322 - accuracy: 0.4941 - val_loss: 1.1835 - val_accuracy: 0.5416\n",
      "Epoch 4/10\n",
      "49/49 [==============================] - 0s 4ms/step - loss: 1.1465 - accuracy: 0.5603 - val_loss: 1.1428 - val_accuracy: 0.5416\n",
      "Epoch 5/10\n",
      "49/49 [==============================] - 0s 3ms/step - loss: 1.1244 - accuracy: 0.5721 - val_loss: 1.0912 - val_accuracy: 0.5590\n",
      "Epoch 6/10\n",
      "49/49 [==============================] - 0s 3ms/step - loss: 1.0717 - accuracy: 0.5892 - val_loss: 1.0522 - val_accuracy: 0.5957\n",
      "Epoch 7/10\n",
      "49/49 [==============================] - 0s 3ms/step - loss: 1.0511 - accuracy: 0.5828 - val_loss: 1.0276 - val_accuracy: 0.6015\n",
      "Epoch 8/10\n",
      "49/49 [==============================] - 0s 3ms/step - loss: 1.0191 - accuracy: 0.5936 - val_loss: 1.0151 - val_accuracy: 0.6190\n",
      "Epoch 9/10\n",
      "49/49 [==============================] - 0s 3ms/step - loss: 1.0001 - accuracy: 0.6204 - val_loss: 1.0027 - val_accuracy: 0.6093\n",
      "Epoch 10/10\n",
      "49/49 [==============================] - 0s 3ms/step - loss: 0.9773 - accuracy: 0.6095 - val_loss: 0.9987 - val_accuracy: 0.6074\n"
     ]
    }
   ],
   "source": [
    "history = model.fit(x_train, y_train_1hot, batch_size=32, epochs=10, validation_data=(x_test, y_test_1hot))"
   ]
  },
  {
   "cell_type": "code",
   "execution_count": 20,
   "metadata": {},
   "outputs": [
    {
     "name": "stdout",
     "output_type": "stream",
     "text": [
      "17/17 - 0s - loss: 0.9987 - accuracy: 0.6074\n",
      "Test accuracy: 0.6073501110076904\n"
     ]
    }
   ],
   "source": [
    "test_loss, test_acc = model.evaluate(x_test,  y_test_1hot, verbose=2)\n",
    "print('Test accuracy:', test_acc)"
   ]
  },
  {
   "cell_type": "code",
   "execution_count": 21,
   "metadata": {},
   "outputs": [
    {
     "name": "stdout",
     "output_type": "stream",
     "text": [
      "17/17 - 0s - loss: 0.9987 - accuracy: 0.6074\n",
      "0.6073501110076904\n"
     ]
    },
    {
     "data": {
      "image/png": "[encoded data removed]",
      "text/plain": [
       "<Figure size 432x288 with 1 Axes>"
      ]
     },
     "metadata": {
      "needs_background": "light"
     },
     "output_type": "display_data"
    }
   ],
   "source": [
    "plt.plot(history.history['accuracy'], label = 'accuracy')\n",
    "plt.plot(history.history['val_accuracy'], label = 'test_accuracy')\n",
    "plt.xlabel('Epoch')\n",
    "plt.ylabel('Accuracy')\n",
    "plt.ylim([0, 1])\n",
    "plt.legend(loc='lower right')\n",
    "\n",
    "test_loss, test_acc = model.evaluate(x_test,  y_test_1hot, verbose=2)\n",
    "\n",
    "print(test_acc)"
   ]
  },
  {
   "cell_type": "code",
   "execution_count": 52,
   "metadata": {},
   "outputs": [],
   "source": [
    "# 2 hidden layers, Adam\n",
    "model = Sequential()\n",
    "\n",
    "model.add(layers.Dense(256, activation='relu', input_shape=[12]))\n",
    "model.add(layers.Dense(512, activation='relu'))\n",
    "model.add(layers.Dense(5, activation='softmax'))\n",
    "\n",
    "model.compile(optimizers.Adam(learning_rate=0.00025, beta_1=0.95),\n",
    "              loss=tf.keras.losses.CategoricalCrossentropy(from_logits=True),\n",
    "              metrics=['accuracy'])"
   ]
  },
  {
   "cell_type": "code",
   "execution_count": 53,
   "metadata": {},
   "outputs": [
    {
     "name": "stdout",
     "output_type": "stream",
     "text": [
      "Epoch 1/10\n",
      "97/97 [==============================] - 1s 4ms/step - loss: 1.4623 - accuracy: 0.4425 - val_loss: 1.2898 - val_accuracy: 0.4700\n",
      "Epoch 2/10\n",
      "97/97 [==============================] - 0s 3ms/step - loss: 1.2174 - accuracy: 0.5088 - val_loss: 1.1771 - val_accuracy: 0.5261\n",
      "Epoch 3/10\n",
      "97/97 [==============================] - 0s 3ms/step - loss: 1.1670 - accuracy: 0.5551 - val_loss: 1.1058 - val_accuracy: 0.5841\n",
      "Epoch 4/10\n",
      "97/97 [==============================] - 0s 3ms/step - loss: 1.1203 - accuracy: 0.5747 - val_loss: 1.0360 - val_accuracy: 0.6035\n",
      "Epoch 5/10\n",
      "97/97 [==============================] - 0s 3ms/step - loss: 1.0370 - accuracy: 0.5908 - val_loss: 0.9954 - val_accuracy: 0.6093\n",
      "Epoch 6/10\n",
      "97/97 [==============================] - 0s 3ms/step - loss: 0.9618 - accuracy: 0.6221 - val_loss: 0.9814 - val_accuracy: 0.5977\n",
      "Epoch 7/10\n",
      "97/97 [==============================] - 0s 3ms/step - loss: 0.9755 - accuracy: 0.6168 - val_loss: 0.9648 - val_accuracy: 0.6170\n",
      "Epoch 8/10\n",
      "97/97 [==============================] - 0s 3ms/step - loss: 0.9367 - accuracy: 0.6222 - val_loss: 0.9519 - val_accuracy: 0.6383\n",
      "Epoch 9/10\n",
      "97/97 [==============================] - 0s 3ms/step - loss: 0.9326 - accuracy: 0.6370 - val_loss: 0.9375 - val_accuracy: 0.6460\n",
      "Epoch 10/10\n",
      "97/97 [==============================] - 0s 3ms/step - loss: 0.9595 - accuracy: 0.6187 - val_loss: 0.9503 - val_accuracy: 0.6306\n"
     ]
    }
   ],
   "source": [
    "history = model.fit(x_train, y_train_1hot, batch_size=16, epochs=10, validation_data=(x_test, y_test_1hot))"
   ]
  },
  {
   "cell_type": "code",
   "execution_count": 54,
   "metadata": {},
   "outputs": [
    {
     "name": "stdout",
     "output_type": "stream",
     "text": [
      "17/17 - 0s - loss: 0.9503 - accuracy: 0.6306\n",
      "Test accuracy: 0.6305609345436096\n"
     ]
    }
   ],
   "source": [
    "test_loss, test_acc = model.evaluate(x_test,  y_test_1hot, verbose=2)\n",
    "print('Test accuracy:', test_acc)"
   ]
  },
  {
   "cell_type": "code",
   "execution_count": 55,
   "metadata": {},
   "outputs": [
    {
     "name": "stdout",
     "output_type": "stream",
     "text": [
      "17/17 - 0s - loss: 0.9503 - accuracy: 0.6306\n",
      "0.6305609345436096\n"
     ]
    },
    {
     "data": {
      "image/png": "[encoded data removed]",
      "text/plain": [
       "<Figure size 432x288 with 1 Axes>"
      ]
     },
     "metadata": {
      "needs_background": "light"
     },
     "output_type": "display_data"
    }
   ],
   "source": [
    "plt.plot(history.history['accuracy'], label = 'accuracy')\n",
    "plt.plot(history.history['val_accuracy'], label = 'test_accuracy')\n",
    "plt.xlabel('Epoch')\n",
    "plt.ylabel('Accuracy')\n",
    "plt.ylim([0, 1])\n",
    "plt.legend(loc='lower right')\n",
    "\n",
    "test_loss, test_acc = model.evaluate(x_test,  y_test_1hot, verbose=2)\n",
    "\n",
    "print(test_acc)"
   ]
  },
  {
   "cell_type": "code",
   "execution_count": 26,
   "metadata": {},
   "outputs": [],
   "source": [
    "model = Sequential()\n",
    "\n",
    "model.add(layers.Dense(256, activation='relu', input_shape=[12]))\n",
    "model.add(layers.Dense(512, activation='relu'))\n",
    "model.add(layers.Dense(5, activation='softmax'))\n",
    "\n",
    "model.compile(optimizers.SGD(learning_rate=0.25),\n",
    "              loss=tf.keras.losses.CategoricalCrossentropy(from_logits=True),\n",
    "              metrics=['accuracy'])"
   ]
  },
  {
   "cell_type": "code",
   "execution_count": 27,
   "metadata": {},
   "outputs": [
    {
     "name": "stdout",
     "output_type": "stream",
     "text": [
      "Epoch 1/20\n",
      "97/97 [==============================] - 1s 4ms/step - loss: 1.4062 - accuracy: 0.4388 - val_loss: 1.1688 - val_accuracy: 0.5435\n",
      "Epoch 2/20\n",
      "97/97 [==============================] - 0s 4ms/step - loss: 1.2050 - accuracy: 0.5309 - val_loss: 1.0865 - val_accuracy: 0.5745\n",
      "Epoch 3/20\n",
      "97/97 [==============================] - 0s 3ms/step - loss: 1.1465 - accuracy: 0.5673 - val_loss: 1.0317 - val_accuracy: 0.5957\n",
      "Epoch 4/20\n",
      "97/97 [==============================] - 0s 3ms/step - loss: 1.0479 - accuracy: 0.5869 - val_loss: 1.4350 - val_accuracy: 0.4371\n",
      "Epoch 5/20\n",
      "97/97 [==============================] - 0s 3ms/step - loss: 1.0491 - accuracy: 0.5861 - val_loss: 1.1273 - val_accuracy: 0.5764\n",
      "Epoch 6/20\n",
      "97/97 [==============================] - 0s 3ms/step - loss: 1.0325 - accuracy: 0.6080 - val_loss: 1.2260 - val_accuracy: 0.5687\n",
      "Epoch 7/20\n",
      "97/97 [==============================] - 0s 3ms/step - loss: 1.0468 - accuracy: 0.6053 - val_loss: 1.0336 - val_accuracy: 0.5977\n",
      "Epoch 8/20\n",
      "97/97 [==============================] - 0s 3ms/step - loss: 0.9955 - accuracy: 0.6116 - val_loss: 0.9730 - val_accuracy: 0.6228\n",
      "Epoch 9/20\n",
      "97/97 [==============================] - 0s 3ms/step - loss: 0.9953 - accuracy: 0.6060 - val_loss: 0.9759 - val_accuracy: 0.6151\n",
      "Epoch 10/20\n",
      "97/97 [==============================] - 0s 3ms/step - loss: 0.9533 - accuracy: 0.6276 - val_loss: 0.9730 - val_accuracy: 0.6286\n",
      "Epoch 11/20\n",
      "97/97 [==============================] - 0s 3ms/step - loss: 0.9519 - accuracy: 0.6283 - val_loss: 0.9794 - val_accuracy: 0.6170\n",
      "Epoch 12/20\n",
      "97/97 [==============================] - 0s 3ms/step - loss: 0.9908 - accuracy: 0.6151 - val_loss: 0.9387 - val_accuracy: 0.6422\n",
      "Epoch 13/20\n",
      "97/97 [==============================] - 0s 3ms/step - loss: 0.9633 - accuracy: 0.6083 - val_loss: 0.9699 - val_accuracy: 0.6306\n",
      "Epoch 14/20\n",
      "97/97 [==============================] - 0s 3ms/step - loss: 1.0094 - accuracy: 0.6160 - val_loss: 0.9335 - val_accuracy: 0.6248\n",
      "Epoch 15/20\n",
      "97/97 [==============================] - 0s 3ms/step - loss: 0.8687 - accuracy: 0.6558 - val_loss: 0.9534 - val_accuracy: 0.6460\n",
      "Epoch 16/20\n",
      "97/97 [==============================] - 0s 3ms/step - loss: 0.9293 - accuracy: 0.6353 - val_loss: 1.1073 - val_accuracy: 0.5803\n",
      "Epoch 17/20\n",
      "97/97 [==============================] - 0s 3ms/step - loss: 0.9407 - accuracy: 0.6218 - val_loss: 1.0189 - val_accuracy: 0.5822\n",
      "Epoch 18/20\n",
      "97/97 [==============================] - 0s 3ms/step - loss: 0.9341 - accuracy: 0.6295 - val_loss: 0.9886 - val_accuracy: 0.6112\n",
      "Epoch 19/20\n",
      "97/97 [==============================] - 0s 3ms/step - loss: 0.9314 - accuracy: 0.6264 - val_loss: 0.9098 - val_accuracy: 0.6518\n",
      "Epoch 20/20\n",
      "97/97 [==============================] - 0s 3ms/step - loss: 0.9477 - accuracy: 0.6250 - val_loss: 0.9885 - val_accuracy: 0.6441\n"
     ]
    }
   ],
   "source": [
    "history = model.fit(x_train, y_train_1hot, batch_size=16, epochs=20, validation_data=(x_test, y_test_1hot))"
   ]
  },
  {
   "cell_type": "code",
   "execution_count": 28,
   "metadata": {},
   "outputs": [
    {
     "name": "stdout",
     "output_type": "stream",
     "text": [
      "17/17 - 0s - loss: 0.9885 - accuracy: 0.6441\n",
      "Test accuracy: 0.6441006064414978\n"
     ]
    }
   ],
   "source": [
    "test_loss, test_acc = model.evaluate(x_test,  y_test_1hot, verbose=2)\n",
    "print('Test accuracy:', test_acc)"
   ]
  },
  {
   "cell_type": "code",
   "execution_count": 29,
   "metadata": {},
   "outputs": [
    {
     "name": "stdout",
     "output_type": "stream",
     "text": [
      "17/17 - 0s - loss: 0.9885 - accuracy: 0.6441\n",
      "0.6441006064414978\n"
     ]
    },
    {
     "data": {
      "image/png": "[encoded data removed]",
      "text/plain": [
       "<Figure size 432x288 with 1 Axes>"
      ]
     },
     "metadata": {
      "needs_background": "light"
     },
     "output_type": "display_data"
    }
   ],
   "source": [
    "plt.plot(history.history['accuracy'], label = 'accuracy')\n",
    "plt.plot(history.history['val_accuracy'], label = 'test_accuracy')\n",
    "plt.xlabel('Epoch')\n",
    "plt.ylabel('Accuracy')\n",
    "plt.ylim([0, 1])\n",
    "plt.legend(loc='lower right')\n",
    "\n",
    "test_loss, test_acc = model.evaluate(x_test,  y_test_1hot, verbose=2)\n",
    "\n",
    "print(test_acc)"
   ]
  },
  {
   "cell_type": "code",
   "execution_count": 30,
   "metadata": {},
   "outputs": [],
   "source": [
    "# \n",
    "path = os.getcwd() + '\\\\personal_playlists_categorized.csv'\n",
    "data = pd.read_csv(path, header=0, names=['name', 'artists', 'danceability', 'energy', 'key', 'loudness', 'mode', 'speechiness', 'acousticness', 'instrumentalness', 'liveness', 'valence', 'tempo', 'type', 'audio_features', 'id' , 'uri', 'track_href', 'analysis_url', 'duration_ms', 'time_signature', 'target'], encoding = \"ISO-8859-1\")\n",
    "# Remove features that don't contribute to the classification of the tracks\n",
    "del data['name']\n",
    "del data['artists']\n",
    "del data['type']\n",
    "del data['audio_features']\n",
    "del data['id']\n",
    "del data['uri']\n",
    "del data['track_href']\n",
    "del data['analysis_url']"
   ]
  },
  {
   "cell_type": "code",
   "execution_count": 31,
   "metadata": {},
   "outputs": [
    {
     "ename": "NameError",
     "evalue": "name 'legend_elements' is not defined",
     "output_type": "error",
     "traceback": [
      "\u001b[1;31m---------------------------------------------------------------------------\u001b[0m",
      "\u001b[1;31mNameError\u001b[0m                                 Traceback (most recent call last)",
      "\u001b[1;32m<ipython-input-31-7797cb951367>\u001b[0m in \u001b[0;36m<module>\u001b[1;34m\u001b[0m\n\u001b[0;32m     21\u001b[0m \u001b[0max\u001b[0m\u001b[1;33m.\u001b[0m\u001b[0mscatter\u001b[0m\u001b[1;33m(\u001b[0m\u001b[0mdata\u001b[0m\u001b[1;33m[\u001b[0m\u001b[1;34m'danceability'\u001b[0m\u001b[1;33m]\u001b[0m\u001b[1;33m,\u001b[0m \u001b[0mdata\u001b[0m\u001b[1;33m[\u001b[0m\u001b[1;34m'energy'\u001b[0m\u001b[1;33m]\u001b[0m\u001b[1;33m,\u001b[0m \u001b[0mc\u001b[0m\u001b[1;33m=\u001b[0m\u001b[0mdata\u001b[0m\u001b[1;33m[\u001b[0m\u001b[1;34m'target'\u001b[0m\u001b[1;33m]\u001b[0m\u001b[1;33m.\u001b[0m\u001b[0mmap\u001b[0m\u001b[1;33m(\u001b[0m\u001b[0mcolors\u001b[0m\u001b[1;33m)\u001b[0m\u001b[1;33m)\u001b[0m\u001b[1;33m\u001b[0m\u001b[1;33m\u001b[0m\u001b[0m\n\u001b[0;32m     22\u001b[0m \u001b[1;33m\u001b[0m\u001b[0m\n\u001b[1;32m---> 23\u001b[1;33m \u001b[0mplt\u001b[0m\u001b[1;33m.\u001b[0m\u001b[0mlegend\u001b[0m\u001b[1;33m(\u001b[0m\u001b[0mhandles\u001b[0m\u001b[1;33m=\u001b[0m\u001b[0mlegend_elements\u001b[0m\u001b[1;33m,\u001b[0m \u001b[0mloc\u001b[0m\u001b[1;33m=\u001b[0m\u001b[1;34m'upper left'\u001b[0m\u001b[1;33m)\u001b[0m\u001b[1;33m\u001b[0m\u001b[1;33m\u001b[0m\u001b[0m\n\u001b[0m\u001b[0;32m     24\u001b[0m \u001b[1;33m\u001b[0m\u001b[0m\n\u001b[0;32m     25\u001b[0m \u001b[0mplt\u001b[0m\u001b[1;33m.\u001b[0m\u001b[0mshow\u001b[0m\u001b[1;33m(\u001b[0m\u001b[1;33m)\u001b[0m\u001b[1;33m\u001b[0m\u001b[1;33m\u001b[0m\u001b[0m\n",
      "\u001b[1;31mNameError\u001b[0m: name 'legend_elements' is not defined"
     ]
    },
    {
     "name": "stderr",
     "output_type": "stream",
     "text": [
      "<__array_function__ internals>:5: UserWarning: Warning: converting a masked element to nan.\n",
      "C:\\Users\\johna\\anaconda3\\lib\\site-packages\\numpy\\core\\_asarray.py:83: UserWarning: Warning: converting a masked element to nan.\n",
      "  return array(a, dtype, copy=False, order=order)\n"
     ]
    },
    {
     "data": {
      "image/png": "[encoded data removed]",
      "text/plain": [
       "<Figure size 432x288 with 1 Axes>"
      ]
     },
     "metadata": {
      "needs_background": "light"
     },
     "output_type": "display_data"
    }
   ],
   "source": [
    "colors = {'indie':'red','rock':'green','pop':'blues','hiphop':'purple',\n",
    "          'country':'yellow','randb':'orange','latin':'pink','dance':'cyan',\n",
    "          'folk':'teal','jazz':'brown','classical':'salmon','soul':'navy',\n",
    "          'punk':'slategrey','metal':'darkgoldenrod','reggae':'darkkhaki'}\n",
    "\n",
    "'''legend_elements = [Line2D([0], [0], marker='o', color='w', label='Jazz',\n",
    "                          markerfacecolor='r', markersize=15),\n",
    "                  Line2D([0], [0], marker='o', color='w', label='Rock',\n",
    "                          markerfacecolor='g', markersize=15),\n",
    "                  Line2D([0], [0], marker='o', color='w', label='Hip-hop',\n",
    "                          markerfacecolor='b', markersize=15)]'''\n",
    "\n",
    "\n",
    "fig, ax = plt.subplots()\n",
    "\n",
    "ax.set_title('Comparing Features by Genre [Danceability vs. Energy]')\n",
    "ax.set_xlabel('Danceability')\n",
    "ax.set_ylabel('Energy')\n",
    "\n",
    "# How danceable the song is vs the energy/intensity of the song\n",
    "ax.scatter(data['danceability'], data['energy'], c=data['target'].map(colors))\n",
    "\n",
    "plt.legend(handles=legend_elements, loc='upper left')\n",
    "\n",
    "plt.show()"
   ]
  },
  {
   "cell_type": "code",
   "execution_count": null,
   "metadata": {},
   "outputs": [],
   "source": [
    "fig, ax = plt.subplots()\n",
    "\n",
    "ax.set_title('Comparing Features by Genre [Valence vs. Acousticness]')\n",
    "ax.set_xlabel('Valence')\n",
    "ax.set_ylabel('Acousticness')\n",
    "\n",
    "# Audience in recording vs use of acoustic instruments\n",
    "ax.scatter(data['valence'], data['acousticness'], c=data['target'].map(colors))\n",
    "\n",
    "plt.legend(handles=legend_elements, loc='upper right')\n",
    "\n",
    "plt.show()"
   ]
  },
  {
   "cell_type": "code",
   "execution_count": null,
   "metadata": {},
   "outputs": [],
   "source": [
    "fig, ax = plt.subplots()\n",
    "\n",
    "ax.set_title('Comparing Features by Genre [Energy vs. Loudness]')\n",
    "ax.set_xlabel('Energy')\n",
    "ax.set_ylabel('Loudness')\n",
    "\n",
    "# Happiness/valence vs tempo\n",
    "ax.scatter(data['energy'], data['loudness'], c=data['target'].map(colors))\n",
    "\n",
    "plt.legend(handles=legend_elements, loc='lower right')\n",
    "\n",
    "plt.show()"
   ]
  },
  {
   "cell_type": "code",
   "execution_count": null,
   "metadata": {},
   "outputs": [],
   "source": [
    "fig, ax = plt.subplots()\n",
    "\n",
    "ax.set_title('Comparing Features by Genre [Speechiness vs. Instrumentalness]')\n",
    "ax.set_xlabel('Speechiness')\n",
    "ax.set_ylabel('Instrumentalness')\n",
    "\n",
    "# Use of words vs use of instruments\n",
    "ax.scatter(data['speechiness'], data['instrumentalness'], c=data['target'].map(colors))\n",
    "\n",
    "plt.legend(handles=legend_elements, loc='upper right')\n",
    "\n",
    "plt.show()"
   ]
  },
  {
   "cell_type": "code",
   "execution_count": null,
   "metadata": {},
   "outputs": [],
   "source": []
  }
 ],
 "metadata": {
  "kernelspec": {
   "display_name": "Python 3",
   "language": "python",
   "name": "python3"
  },
  "language_info": {
   "codemirror_mode": {
    "name": "ipython",
    "version": 3
   },
   "file_extension": ".py",
   "mimetype": "text/x-python",
   "name": "python",
   "nbconvert_exporter": "python",
   "pygments_lexer": "ipython3",
   "version": "3.8.5"
  }
 },
 "nbformat": 4,
 "nbformat_minor": 2
}
